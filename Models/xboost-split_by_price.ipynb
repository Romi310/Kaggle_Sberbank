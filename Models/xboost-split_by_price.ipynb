{
 "cells": [
  {
   "cell_type": "markdown",
   "metadata": {},
   "source": [
    "# XGBOOST"
   ]
  },
  {
   "cell_type": "markdown",
   "metadata": {},
   "source": [
    "### Import Libraries"
   ]
  },
  {
   "cell_type": "code",
   "execution_count": 1,
   "metadata": {
    "collapsed": false
   },
   "outputs": [
    {
     "name": "stderr",
     "output_type": "stream",
     "text": [
      "/Users/rezarad/anaconda2/lib/python2.7/site-packages/sklearn/cross_validation.py:44: DeprecationWarning: This module was deprecated in version 0.18 in favor of the model_selection module into which all the refactored classes and functions are moved. Also note that the interface of the new CV iterators are different from that of this module. This module will be removed in 0.20.\n",
      "  \"This module will be removed in 0.20.\", DeprecationWarning)\n"
     ]
    }
   ],
   "source": [
    "import pandas as pd\n",
    "import numpy as np\n",
    "import pandas as pd\n",
    "import numpy as np\n",
    "from sklearn.model_selection import GridSearchCV\n",
    "from sklearn.cross_validation import StratifiedKFold\n",
    "from sklearn.cross_validation import cross_val_score\n",
    "from sklearn.preprocessing import Imputer\n",
    "from sklearn.metrics import auc\n",
    "from matplotlib import pyplot as plt\n",
    "\n",
    "%matplotlib inline\n",
    "\n",
    "\n",
    "pd.set_option('display.max_columns', None)"
   ]
  },
  {
   "cell_type": "markdown",
   "metadata": {
    "collapsed": false
   },
   "source": [
    "### Import Dataset"
   ]
  },
  {
   "cell_type": "code",
   "execution_count": 3,
   "metadata": {
    "collapsed": false
   },
   "outputs": [],
   "source": [
    "df = pd.read_csv('../EDA/merged_w_state_build_2017-05-30.csv',  parse_dates=['timestamp'], index_col=False, low_memory=False)"
   ]
  },
  {
   "cell_type": "markdown",
   "metadata": {},
   "source": [
    "### Select Features"
   ]
  },
  {
   "cell_type": "code",
   "execution_count": null,
   "metadata": {
    "collapsed": true
   },
   "outputs": [],
   "source": []
  },
  {
   "cell_type": "code",
   "execution_count": 9,
   "metadata": {
    "collapsed": false
   },
   "outputs": [],
   "source": [
    "features = ['floor', 'full_sq^2', 'area_km', 'density','month','year','age_log',\n",
    "            'rel_floor', 'material', 'num_room', 'work_share','kitch_sq', 'state', 'product_type',\n",
    "            'sub_area', 'indust_part', 'sport_objects_raion', 'metro_min_avto',\n",
    "            'green_zone_km', 'industrial_km', 'kremlin_km', 'radiation_km', 'ts_km', 'fitness_km',\n",
    "            'stadium_km', 'park_km', 'price_doc_log']"
   ]
  },
  {
   "cell_type": "code",
   "execution_count": 10,
   "metadata": {
    "collapsed": false
   },
   "outputs": [
    {
     "data": {
      "text/plain": [
       "7662"
      ]
     },
     "execution_count": 10,
     "metadata": {},
     "output_type": "execute_result"
    }
   ],
   "source": [
    "np.sum(df['price_doc_log'].isnull())"
   ]
  },
  {
   "cell_type": "markdown",
   "metadata": {},
   "source": [
    "### Transform some Features"
   ]
  },
  {
   "cell_type": "code",
   "execution_count": 11,
   "metadata": {
    "collapsed": false
   },
   "outputs": [
    {
     "data": {
      "text/plain": [
       "49"
      ]
     },
     "execution_count": 11,
     "metadata": {},
     "output_type": "execute_result"
    }
   ],
   "source": [
    "np.sum(df['full_sq^2'].isnull())"
   ]
  },
  {
   "cell_type": "code",
   "execution_count": 15,
   "metadata": {
    "collapsed": false
   },
   "outputs": [
    {
     "name": "stdout",
     "output_type": "stream",
     "text": [
      "price_doc_log 7662\n"
     ]
    }
   ],
   "source": [
    "for feature in features:\n",
    "    if np.sum(df[feature].isnull()) > 0:\n",
    "        print feature,np.sum(df[feature].isnull())"
   ]
  },
  {
   "cell_type": "code",
   "execution_count": 14,
   "metadata": {
    "collapsed": false,
    "scrolled": true
   },
   "outputs": [],
   "source": [
    "df['age_log'] = np.log1p(df['age'])\n",
    "df.loc[df['full_sq^2'].isnull(), 'full_sq^2'] = np.median(df.loc[df['full_sq^2'].notnull(),'full_sq^2'])\n",
    "df.loc[df['rel_floor'].isnull(), 'rel_floor'] = np.median(df.loc[df['rel_floor'].notnull(),'rel_floor'])"
   ]
  },
  {
   "cell_type": "code",
   "execution_count": 16,
   "metadata": {
    "collapsed": false
   },
   "outputs": [
    {
     "data": {
      "text/plain": [
       "(37659, 458)"
      ]
     },
     "execution_count": 16,
     "metadata": {},
     "output_type": "execute_result"
    }
   ],
   "source": [
    "df.shape"
   ]
  },
  {
   "cell_type": "markdown",
   "metadata": {},
   "source": [
    "### Split into two dataframes"
   ]
  },
  {
   "cell_type": "code",
   "execution_count": 17,
   "metadata": {
    "collapsed": true
   },
   "outputs": [],
   "source": [
    "train_df = df.loc[df['price_doc_log'].notnull()]\n",
    "test_df = df.loc[df['price_doc_log'].isnull()]"
   ]
  },
  {
   "cell_type": "code",
   "execution_count": 18,
   "metadata": {
    "collapsed": true
   },
   "outputs": [],
   "source": [
    "# value from splitting by price ipynb\n",
    "split_value = 11000000"
   ]
  },
  {
   "cell_type": "code",
   "execution_count": 21,
   "metadata": {
    "collapsed": false
   },
   "outputs": [],
   "source": [
    "df_lower = df.loc[df['price_doc'] < split_value]\n",
    "df_upper = df.loc[df['price_doc'] > split_value]"
   ]
  },
  {
   "cell_type": "code",
   "execution_count": 23,
   "metadata": {
    "collapsed": false
   },
   "outputs": [
    {
     "data": {
      "text/plain": [
       "((26338, 458), (3526, 458))"
      ]
     },
     "execution_count": 23,
     "metadata": {},
     "output_type": "execute_result"
    }
   ],
   "source": [
    "df_lower.shape, df_upper.shape"
   ]
  },
  {
   "cell_type": "markdown",
   "metadata": {},
   "source": [
    "### Lower Priced Homes"
   ]
  },
  {
   "cell_type": "code",
   "execution_count": 46,
   "metadata": {
    "collapsed": false
   },
   "outputs": [
    {
     "name": "stdout",
     "output_type": "stream",
     "text": [
      "(29997,) (29997, 26) (7662, 26)\n"
     ]
    }
   ],
   "source": [
    "df_lower = df_lower.select_dtypes(exclude=['datetime'])\n",
    "df_lower = df_lower[features]\n",
    "\n",
    "y_train_l = df_lower.loc[df_lower['price_doc_log'].notnull(), 'price_doc_log']\n",
    "X_train_l = df_lower.loc[df_lower['price_doc_log'].notnull(), df_lower.columns != 'price_doc_log']\n",
    "X_test_l = df_lower.loc[df_lower['price_doc_log'].isnull(), df_lower.columns != 'price_doc_log']\n",
    "\n",
    "print y_train_l.shape, X_train_l.shape, X_test_l.shape"
   ]
  },
  {
   "cell_type": "markdown",
   "metadata": {},
   "source": [
    "### Higher Priced Homes"
   ]
  },
  {
   "cell_type": "code",
   "execution_count": 26,
   "metadata": {
    "collapsed": false
   },
   "outputs": [
    {
     "name": "stdout",
     "output_type": "stream",
     "text": [
      "(3526,) (3526, 26) (0, 26)\n"
     ]
    }
   ],
   "source": [
    "df_upper = df_upper.select_dtypes(exclude=['datetime'])\n",
    "df_upper = df_upper[features]\n",
    "\n",
    "y_train_l = df_upper.loc[df_upper['price_doc_log'].notnull(), 'price_doc_log']\n",
    "X_train_l = df_upper.loc[df_upper['price_doc_log'].notnull(), df_upper.columns != 'price_doc_log']\n",
    "X_test_l = df_upper.loc[df_upper['price_doc_log'].isnull(), df_upper.columns != 'price_doc_log']\n",
    "\n",
    "print y_train_l.shape, X_train_l.shape, X_test_l.shape"
   ]
  },
  {
   "cell_type": "markdown",
   "metadata": {},
   "source": [
    "Lets run xgboost using only homes in the bottom 95% of our price distribution"
   ]
  },
  {
   "cell_type": "markdown",
   "metadata": {
    "collapsed": true
   },
   "source": [
    "## Selecting Features"
   ]
  },
  {
   "cell_type": "code",
   "execution_count": 47,
   "metadata": {
    "collapsed": false
   },
   "outputs": [
    {
     "name": "stdout",
     "output_type": "stream",
     "text": [
      "[0]\ttrain-rmse:14.8171\ttest-rmse:14.8172\n",
      "[1]\ttrain-rmse:14.5213\ttest-rmse:14.5213\n",
      "[2]\ttrain-rmse:14.2313\ttest-rmse:14.2313\n",
      "[3]\ttrain-rmse:13.9472\ttest-rmse:13.9472\n",
      "[4]\ttrain-rmse:13.6687\ttest-rmse:13.6688\n",
      "[5]\ttrain-rmse:13.3959\ttest-rmse:13.3959\n",
      "[6]\ttrain-rmse:13.1285\ttest-rmse:13.1285\n",
      "[7]\ttrain-rmse:12.8664\ttest-rmse:12.8665\n",
      "[8]\ttrain-rmse:12.6096\ttest-rmse:12.6097\n",
      "[9]\ttrain-rmse:12.358\ttest-rmse:12.358\n",
      "[10]\ttrain-rmse:12.1114\ttest-rmse:12.1114\n",
      "[11]\ttrain-rmse:11.8697\ttest-rmse:11.8697\n",
      "[12]\ttrain-rmse:11.6328\ttest-rmse:11.6328\n",
      "[13]\ttrain-rmse:11.4008\ttest-rmse:11.4008\n",
      "[14]\ttrain-rmse:11.1733\ttest-rmse:11.1733\n",
      "[15]\ttrain-rmse:10.9505\ttest-rmse:10.9505\n",
      "[16]\ttrain-rmse:10.732\ttest-rmse:10.732\n",
      "[17]\ttrain-rmse:10.5179\ttest-rmse:10.5179\n",
      "[18]\ttrain-rmse:10.3082\ttest-rmse:10.3082\n",
      "[19]\ttrain-rmse:10.1027\ttest-rmse:10.1027\n",
      "[20]\ttrain-rmse:9.9012\ttest-rmse:9.90121\n",
      "[21]\ttrain-rmse:9.70377\ttest-rmse:9.7038\n",
      "[22]\ttrain-rmse:9.51027\ttest-rmse:9.51031\n",
      "[23]\ttrain-rmse:9.32073\ttest-rmse:9.32079\n",
      "[24]\ttrain-rmse:9.13498\ttest-rmse:9.13503\n",
      "[25]\ttrain-rmse:8.95294\ttest-rmse:8.95299\n",
      "[26]\ttrain-rmse:8.77455\ttest-rmse:8.77458\n",
      "[27]\ttrain-rmse:8.59977\ttest-rmse:8.5998\n",
      "[28]\ttrain-rmse:8.42843\ttest-rmse:8.42847\n",
      "[29]\ttrain-rmse:8.26058\ttest-rmse:8.2606\n",
      "[30]\ttrain-rmse:8.09607\ttest-rmse:8.09607\n",
      "[31]\ttrain-rmse:7.93485\ttest-rmse:7.93486\n",
      "[32]\ttrain-rmse:7.77689\ttest-rmse:7.77689\n",
      "[33]\ttrain-rmse:7.62202\ttest-rmse:7.62201\n",
      "[34]\ttrain-rmse:7.47032\ttest-rmse:7.4703\n",
      "[35]\ttrain-rmse:7.32168\ttest-rmse:7.32167\n",
      "[36]\ttrain-rmse:7.17597\ttest-rmse:7.17596\n",
      "[37]\ttrain-rmse:7.03323\ttest-rmse:7.03321\n",
      "[38]\ttrain-rmse:6.89335\ttest-rmse:6.89334\n",
      "[39]\ttrain-rmse:6.75631\ttest-rmse:6.75629\n",
      "[40]\ttrain-rmse:6.62202\ttest-rmse:6.622\n",
      "[41]\ttrain-rmse:6.49037\ttest-rmse:6.49035\n",
      "[42]\ttrain-rmse:6.36147\ttest-rmse:6.36147\n",
      "[43]\ttrain-rmse:6.23509\ttest-rmse:6.23509\n",
      "[44]\ttrain-rmse:6.11124\ttest-rmse:6.11125\n",
      "[45]\ttrain-rmse:5.98989\ttest-rmse:5.9899\n",
      "[46]\ttrain-rmse:5.87096\ttest-rmse:5.87096\n",
      "[47]\ttrain-rmse:5.75447\ttest-rmse:5.75448\n",
      "[48]\ttrain-rmse:5.64029\ttest-rmse:5.6403\n",
      "[49]\ttrain-rmse:5.52844\ttest-rmse:5.52846\n",
      "[50]\ttrain-rmse:5.41883\ttest-rmse:5.41886\n",
      "[51]\ttrain-rmse:5.31148\ttest-rmse:5.31152\n",
      "[52]\ttrain-rmse:5.20625\ttest-rmse:5.20632\n",
      "[53]\ttrain-rmse:5.10312\ttest-rmse:5.10318\n",
      "[54]\ttrain-rmse:5.00212\ttest-rmse:5.00219\n",
      "[55]\ttrain-rmse:4.90313\ttest-rmse:4.9032\n",
      "[56]\ttrain-rmse:4.80613\ttest-rmse:4.80623\n",
      "[57]\ttrain-rmse:4.71109\ttest-rmse:4.71119\n",
      "[58]\ttrain-rmse:4.61797\ttest-rmse:4.61807\n",
      "[59]\ttrain-rmse:4.52674\ttest-rmse:4.52683\n",
      "[60]\ttrain-rmse:4.43737\ttest-rmse:4.43747\n",
      "[61]\ttrain-rmse:4.3498\ttest-rmse:4.34989\n",
      "[62]\ttrain-rmse:4.26402\ttest-rmse:4.26415\n",
      "[63]\ttrain-rmse:4.17997\ttest-rmse:4.18009\n",
      "[64]\ttrain-rmse:4.0976\ttest-rmse:4.09774\n",
      "[65]\ttrain-rmse:4.01691\ttest-rmse:4.01706\n",
      "[66]\ttrain-rmse:3.93788\ttest-rmse:3.93805\n",
      "[67]\ttrain-rmse:3.86044\ttest-rmse:3.86062\n",
      "[68]\ttrain-rmse:3.78457\ttest-rmse:3.78474\n",
      "[69]\ttrain-rmse:3.71021\ttest-rmse:3.71039\n",
      "[70]\ttrain-rmse:3.63738\ttest-rmse:3.63757\n",
      "[71]\ttrain-rmse:3.56605\ttest-rmse:3.56626\n",
      "[72]\ttrain-rmse:3.4961\ttest-rmse:3.49633\n",
      "[73]\ttrain-rmse:3.4276\ttest-rmse:3.42786\n",
      "[74]\ttrain-rmse:3.3605\ttest-rmse:3.36077\n",
      "[75]\ttrain-rmse:3.29476\ttest-rmse:3.29504\n",
      "[76]\ttrain-rmse:3.23033\ttest-rmse:3.23064\n",
      "[77]\ttrain-rmse:3.16723\ttest-rmse:3.16759\n",
      "[78]\ttrain-rmse:3.10536\ttest-rmse:3.10579\n",
      "[79]\ttrain-rmse:3.04483\ttest-rmse:3.0453\n",
      "[80]\ttrain-rmse:2.98551\ttest-rmse:2.98603\n",
      "[81]\ttrain-rmse:2.92738\ttest-rmse:2.92795\n",
      "[82]\ttrain-rmse:2.8705\ttest-rmse:2.87108\n",
      "[83]\ttrain-rmse:2.81477\ttest-rmse:2.8154\n",
      "[84]\ttrain-rmse:2.76017\ttest-rmse:2.76087\n",
      "[85]\ttrain-rmse:2.7067\ttest-rmse:2.70744\n",
      "[86]\ttrain-rmse:2.65437\ttest-rmse:2.65519\n",
      "[87]\ttrain-rmse:2.60306\ttest-rmse:2.60395\n",
      "[88]\ttrain-rmse:2.55287\ttest-rmse:2.55379\n",
      "[89]\ttrain-rmse:2.50365\ttest-rmse:2.50466\n",
      "[90]\ttrain-rmse:2.45548\ttest-rmse:2.45656\n",
      "[91]\ttrain-rmse:2.40827\ttest-rmse:2.40946\n",
      "[92]\ttrain-rmse:2.36206\ttest-rmse:2.36333\n",
      "[93]\ttrain-rmse:2.31684\ttest-rmse:2.31824\n",
      "[94]\ttrain-rmse:2.27256\ttest-rmse:2.27406\n",
      "[95]\ttrain-rmse:2.22913\ttest-rmse:2.23076\n",
      "[96]\ttrain-rmse:2.18666\ttest-rmse:2.18841\n",
      "[97]\ttrain-rmse:2.14503\ttest-rmse:2.14688\n",
      "[98]\ttrain-rmse:2.10421\ttest-rmse:2.10618\n",
      "[99]\ttrain-rmse:2.06426\ttest-rmse:2.06636\n",
      "[100]\ttrain-rmse:2.02516\ttest-rmse:2.02742\n",
      "[101]\ttrain-rmse:1.98684\ttest-rmse:1.98928\n",
      "[102]\ttrain-rmse:1.94936\ttest-rmse:1.95197\n",
      "[103]\ttrain-rmse:1.91264\ttest-rmse:1.91545\n",
      "[104]\ttrain-rmse:1.87667\ttest-rmse:1.87973\n",
      "[105]\ttrain-rmse:1.84152\ttest-rmse:1.8448\n",
      "[106]\ttrain-rmse:1.80707\ttest-rmse:1.81058\n",
      "[107]\ttrain-rmse:1.77339\ttest-rmse:1.77713\n",
      "[108]\ttrain-rmse:1.74036\ttest-rmse:1.7443\n",
      "[109]\ttrain-rmse:1.70801\ttest-rmse:1.71213\n",
      "[110]\ttrain-rmse:1.67631\ttest-rmse:1.68071\n",
      "[111]\ttrain-rmse:1.64531\ttest-rmse:1.64993\n",
      "[112]\ttrain-rmse:1.61498\ttest-rmse:1.61987\n",
      "[113]\ttrain-rmse:1.58531\ttest-rmse:1.59047\n",
      "[114]\ttrain-rmse:1.55618\ttest-rmse:1.56167\n",
      "[115]\ttrain-rmse:1.52767\ttest-rmse:1.53355\n",
      "[116]\ttrain-rmse:1.49988\ttest-rmse:1.50604\n",
      "[117]\ttrain-rmse:1.47261\ttest-rmse:1.47911\n",
      "[118]\ttrain-rmse:1.44594\ttest-rmse:1.45279\n",
      "[119]\ttrain-rmse:1.41976\ttest-rmse:1.427\n",
      "[120]\ttrain-rmse:1.39422\ttest-rmse:1.40187\n",
      "[121]\ttrain-rmse:1.36924\ttest-rmse:1.37727\n",
      "[122]\ttrain-rmse:1.34472\ttest-rmse:1.35318\n",
      "[123]\ttrain-rmse:1.32072\ttest-rmse:1.32962\n",
      "[124]\ttrain-rmse:1.29725\ttest-rmse:1.30654\n",
      "[125]\ttrain-rmse:1.27429\ttest-rmse:1.284\n",
      "[126]\ttrain-rmse:1.2518\ttest-rmse:1.26206\n",
      "[127]\ttrain-rmse:1.22978\ttest-rmse:1.24049\n",
      "[128]\ttrain-rmse:1.20827\ttest-rmse:1.21951\n",
      "[129]\ttrain-rmse:1.18715\ttest-rmse:1.19896\n",
      "[130]\ttrain-rmse:1.16651\ttest-rmse:1.17889\n",
      "[131]\ttrain-rmse:1.14638\ttest-rmse:1.15928\n",
      "[132]\ttrain-rmse:1.12671\ttest-rmse:1.14011\n",
      "[133]\ttrain-rmse:1.10746\ttest-rmse:1.12136\n",
      "[134]\ttrain-rmse:1.08865\ttest-rmse:1.1031\n",
      "[135]\ttrain-rmse:1.0702\ttest-rmse:1.08528\n",
      "[136]\ttrain-rmse:1.05215\ttest-rmse:1.0678\n",
      "[137]\ttrain-rmse:1.03444\ttest-rmse:1.05076\n",
      "[138]\ttrain-rmse:1.01721\ttest-rmse:1.03412\n",
      "[139]\ttrain-rmse:1.00037\ttest-rmse:1.01792\n",
      "[140]\ttrain-rmse:0.983904\ttest-rmse:1.00205\n",
      "[141]\ttrain-rmse:0.967837\ttest-rmse:0.986582\n",
      "[142]\ttrain-rmse:0.95217\ttest-rmse:0.971458\n",
      "[143]\ttrain-rmse:0.936751\ttest-rmse:0.95676\n",
      "[144]\ttrain-rmse:0.92169\ttest-rmse:0.942454\n",
      "[145]\ttrain-rmse:0.907052\ttest-rmse:0.928503\n",
      "[146]\ttrain-rmse:0.892691\ttest-rmse:0.914832\n",
      "[147]\ttrain-rmse:0.878664\ttest-rmse:0.901522\n",
      "[148]\ttrain-rmse:0.864878\ttest-rmse:0.888534\n",
      "[149]\ttrain-rmse:0.851492\ttest-rmse:0.875834\n",
      "[150]\ttrain-rmse:0.838352\ttest-rmse:0.863432\n",
      "[151]\ttrain-rmse:0.825591\ttest-rmse:0.851464\n",
      "[152]\ttrain-rmse:0.813008\ttest-rmse:0.839784\n",
      "[153]\ttrain-rmse:0.800772\ttest-rmse:0.828319\n",
      "[154]\ttrain-rmse:0.788874\ttest-rmse:0.817214\n",
      "[155]\ttrain-rmse:0.77714\ttest-rmse:0.806379\n",
      "[156]\ttrain-rmse:0.765635\ttest-rmse:0.795815\n",
      "[157]\ttrain-rmse:0.754494\ttest-rmse:0.785575\n",
      "[158]\ttrain-rmse:0.74368\ttest-rmse:0.775616\n",
      "[159]\ttrain-rmse:0.733147\ttest-rmse:0.76585\n",
      "[160]\ttrain-rmse:0.722713\ttest-rmse:0.756347\n",
      "[161]\ttrain-rmse:0.712615\ttest-rmse:0.747162\n",
      "[162]\ttrain-rmse:0.702827\ttest-rmse:0.738259\n",
      "[163]\ttrain-rmse:0.693197\ttest-rmse:0.729546\n",
      "[164]\ttrain-rmse:0.683848\ttest-rmse:0.7211\n",
      "[165]\ttrain-rmse:0.67466\ttest-rmse:0.712837\n",
      "[166]\ttrain-rmse:0.665792\ttest-rmse:0.704826\n",
      "[167]\ttrain-rmse:0.657035\ttest-rmse:0.696985\n",
      "[168]\ttrain-rmse:0.648567\ttest-rmse:0.689365\n",
      "[169]\ttrain-rmse:0.640275\ttest-rmse:0.682031\n",
      "[170]\ttrain-rmse:0.632277\ttest-rmse:0.674887\n",
      "[171]\ttrain-rmse:0.624474\ttest-rmse:0.667978\n",
      "[172]\ttrain-rmse:0.616699\ttest-rmse:0.661214\n",
      "[173]\ttrain-rmse:0.609219\ttest-rmse:0.654691\n",
      "[174]\ttrain-rmse:0.601926\ttest-rmse:0.648369\n",
      "[175]\ttrain-rmse:0.594833\ttest-rmse:0.642284\n",
      "[176]\ttrain-rmse:0.58787\ttest-rmse:0.636288\n",
      "[177]\ttrain-rmse:0.581174\ttest-rmse:0.630484\n",
      "[178]\ttrain-rmse:0.574704\ttest-rmse:0.624898\n",
      "[179]\ttrain-rmse:0.568226\ttest-rmse:0.619452\n",
      "[180]\ttrain-rmse:0.561977\ttest-rmse:0.614237\n",
      "[181]\ttrain-rmse:0.555961\ttest-rmse:0.609121\n",
      "[182]\ttrain-rmse:0.550004\ttest-rmse:0.60416\n",
      "[183]\ttrain-rmse:0.54418\ttest-rmse:0.599372\n",
      "[184]\ttrain-rmse:0.538573\ttest-rmse:0.594721\n",
      "[185]\ttrain-rmse:0.533101\ttest-rmse:0.590245\n",
      "[186]\ttrain-rmse:0.527645\ttest-rmse:0.585852\n",
      "[187]\ttrain-rmse:0.522398\ttest-rmse:0.581627\n",
      "[188]\ttrain-rmse:0.5173\ttest-rmse:0.577582\n",
      "[189]\ttrain-rmse:0.512479\ttest-rmse:0.573644\n",
      "[190]\ttrain-rmse:0.507715\ttest-rmse:0.569812\n",
      "[191]\ttrain-rmse:0.503041\ttest-rmse:0.566093\n",
      "[192]\ttrain-rmse:0.498521\ttest-rmse:0.562503\n",
      "[193]\ttrain-rmse:0.494044\ttest-rmse:0.558986\n",
      "[194]\ttrain-rmse:0.489722\ttest-rmse:0.5556\n",
      "[195]\ttrain-rmse:0.485622\ttest-rmse:0.552353\n",
      "[196]\ttrain-rmse:0.481491\ttest-rmse:0.549235\n",
      "[197]\ttrain-rmse:0.477571\ttest-rmse:0.546215\n",
      "[198]\ttrain-rmse:0.473802\ttest-rmse:0.543295\n",
      "[199]\ttrain-rmse:0.470112\ttest-rmse:0.540474\n",
      "[200]\ttrain-rmse:0.466346\ttest-rmse:0.537694\n",
      "[201]\ttrain-rmse:0.462933\ttest-rmse:0.535083\n",
      "[202]\ttrain-rmse:0.459493\ttest-rmse:0.532533\n",
      "[203]\ttrain-rmse:0.456019\ttest-rmse:0.53005\n",
      "[204]\ttrain-rmse:0.452744\ttest-rmse:0.527633\n",
      "[205]\ttrain-rmse:0.449516\ttest-rmse:0.525335\n",
      "[206]\ttrain-rmse:0.446313\ttest-rmse:0.52311\n",
      "[207]\ttrain-rmse:0.4433\ttest-rmse:0.520967\n",
      "[208]\ttrain-rmse:0.440398\ttest-rmse:0.518909\n",
      "[209]\ttrain-rmse:0.437476\ttest-rmse:0.516927\n",
      "[210]\ttrain-rmse:0.434674\ttest-rmse:0.514952\n",
      "[211]\ttrain-rmse:0.431972\ttest-rmse:0.513095\n",
      "[212]\ttrain-rmse:0.429356\ttest-rmse:0.511304\n",
      "[213]\ttrain-rmse:0.426767\ttest-rmse:0.509537\n",
      "[214]\ttrain-rmse:0.424426\ttest-rmse:0.507852\n",
      "[215]\ttrain-rmse:0.42176\ttest-rmse:0.506205\n",
      "[216]\ttrain-rmse:0.419411\ttest-rmse:0.50469\n",
      "[217]\ttrain-rmse:0.417133\ttest-rmse:0.503149\n",
      "[218]\ttrain-rmse:0.414811\ttest-rmse:0.501667\n",
      "[219]\ttrain-rmse:0.412665\ttest-rmse:0.500267\n",
      "[220]\ttrain-rmse:0.410465\ttest-rmse:0.49893\n",
      "[221]\ttrain-rmse:0.408349\ttest-rmse:0.497609\n",
      "[222]\ttrain-rmse:0.406244\ttest-rmse:0.496382\n",
      "[223]\ttrain-rmse:0.404192\ttest-rmse:0.495169\n",
      "[224]\ttrain-rmse:0.40235\ttest-rmse:0.493979\n",
      "[225]\ttrain-rmse:0.400547\ttest-rmse:0.492832\n",
      "[226]\ttrain-rmse:0.398691\ttest-rmse:0.491694\n",
      "[227]\ttrain-rmse:0.397048\ttest-rmse:0.490642\n",
      "[228]\ttrain-rmse:0.395281\ttest-rmse:0.489604\n",
      "[229]\ttrain-rmse:0.393639\ttest-rmse:0.488596\n",
      "[230]\ttrain-rmse:0.391816\ttest-rmse:0.487683\n",
      "[231]\ttrain-rmse:0.390249\ttest-rmse:0.486757\n",
      "[232]\ttrain-rmse:0.388656\ttest-rmse:0.485907\n",
      "[233]\ttrain-rmse:0.387212\ttest-rmse:0.48501\n",
      "[234]\ttrain-rmse:0.385823\ttest-rmse:0.48421\n",
      "[235]\ttrain-rmse:0.384412\ttest-rmse:0.483435\n",
      "[236]\ttrain-rmse:0.383071\ttest-rmse:0.482704\n",
      "[237]\ttrain-rmse:0.381621\ttest-rmse:0.482011\n",
      "[238]\ttrain-rmse:0.380215\ttest-rmse:0.481311\n",
      "[239]\ttrain-rmse:0.378915\ttest-rmse:0.480631\n",
      "[240]\ttrain-rmse:0.377548\ttest-rmse:0.479984\n",
      "[241]\ttrain-rmse:0.376213\ttest-rmse:0.479371\n",
      "[242]\ttrain-rmse:0.374967\ttest-rmse:0.478784\n",
      "[243]\ttrain-rmse:0.37392\ttest-rmse:0.478216\n",
      "[244]\ttrain-rmse:0.372564\ttest-rmse:0.477653\n",
      "[245]\ttrain-rmse:0.371459\ttest-rmse:0.477103\n",
      "[246]\ttrain-rmse:0.370244\ttest-rmse:0.476584\n",
      "[247]\ttrain-rmse:0.369019\ttest-rmse:0.476091\n",
      "[248]\ttrain-rmse:0.367967\ttest-rmse:0.475585\n",
      "[249]\ttrain-rmse:0.366857\ttest-rmse:0.475115\n",
      "[250]\ttrain-rmse:0.36565\ttest-rmse:0.474671\n",
      "[251]\ttrain-rmse:0.364752\ttest-rmse:0.474241\n",
      "[252]\ttrain-rmse:0.363922\ttest-rmse:0.473821\n",
      "[253]\ttrain-rmse:0.363042\ttest-rmse:0.473439\n",
      "[254]\ttrain-rmse:0.3621\ttest-rmse:0.473054\n",
      "[255]\ttrain-rmse:0.36116\ttest-rmse:0.472683\n",
      "[256]\ttrain-rmse:0.360325\ttest-rmse:0.472312\n",
      "[257]\ttrain-rmse:0.359281\ttest-rmse:0.471986\n",
      "[258]\ttrain-rmse:0.358485\ttest-rmse:0.471679\n",
      "[259]\ttrain-rmse:0.357506\ttest-rmse:0.471347\n",
      "[260]\ttrain-rmse:0.356635\ttest-rmse:0.471082\n",
      "[261]\ttrain-rmse:0.355726\ttest-rmse:0.470771\n",
      "[262]\ttrain-rmse:0.354921\ttest-rmse:0.470458\n",
      "[263]\ttrain-rmse:0.35414\ttest-rmse:0.470201\n",
      "[264]\ttrain-rmse:0.353361\ttest-rmse:0.469933\n",
      "[265]\ttrain-rmse:0.352566\ttest-rmse:0.469647\n",
      "[266]\ttrain-rmse:0.351572\ttest-rmse:0.469412\n",
      "[267]\ttrain-rmse:0.35052\ttest-rmse:0.469165\n",
      "[268]\ttrain-rmse:0.349668\ttest-rmse:0.468966\n",
      "[269]\ttrain-rmse:0.348972\ttest-rmse:0.468718\n",
      "[270]\ttrain-rmse:0.348133\ttest-rmse:0.468502\n",
      "[271]\ttrain-rmse:0.347508\ttest-rmse:0.468266\n",
      "[272]\ttrain-rmse:0.346718\ttest-rmse:0.46804\n",
      "[273]\ttrain-rmse:0.346019\ttest-rmse:0.467813\n",
      "[274]\ttrain-rmse:0.34529\ttest-rmse:0.46765\n",
      "[275]\ttrain-rmse:0.344524\ttest-rmse:0.467482\n",
      "[276]\ttrain-rmse:0.34392\ttest-rmse:0.467313\n",
      "[277]\ttrain-rmse:0.34321\ttest-rmse:0.467155\n",
      "[278]\ttrain-rmse:0.342369\ttest-rmse:0.466953\n",
      "[279]\ttrain-rmse:0.341716\ttest-rmse:0.466807\n",
      "[280]\ttrain-rmse:0.341124\ttest-rmse:0.466683\n",
      "[281]\ttrain-rmse:0.340633\ttest-rmse:0.466564\n",
      "[282]\ttrain-rmse:0.340001\ttest-rmse:0.466415\n",
      "[283]\ttrain-rmse:0.339161\ttest-rmse:0.466281\n",
      "[284]\ttrain-rmse:0.338538\ttest-rmse:0.466157\n",
      "[285]\ttrain-rmse:0.33802\ttest-rmse:0.465997\n",
      "[286]\ttrain-rmse:0.337344\ttest-rmse:0.465895\n",
      "[287]\ttrain-rmse:0.336863\ttest-rmse:0.465784\n",
      "[288]\ttrain-rmse:0.336093\ttest-rmse:0.465666\n",
      "[289]\ttrain-rmse:0.335558\ttest-rmse:0.465553\n",
      "[290]\ttrain-rmse:0.33504\ttest-rmse:0.465446\n",
      "[291]\ttrain-rmse:0.334462\ttest-rmse:0.465356\n",
      "[292]\ttrain-rmse:0.333917\ttest-rmse:0.465239\n",
      "[293]\ttrain-rmse:0.333425\ttest-rmse:0.465139\n",
      "[294]\ttrain-rmse:0.3328\ttest-rmse:0.46501\n",
      "[295]\ttrain-rmse:0.332198\ttest-rmse:0.464935\n",
      "[296]\ttrain-rmse:0.331697\ttest-rmse:0.464857\n",
      "[297]\ttrain-rmse:0.331171\ttest-rmse:0.464766\n",
      "[298]\ttrain-rmse:0.330751\ttest-rmse:0.464677\n",
      "[299]\ttrain-rmse:0.329983\ttest-rmse:0.464593\n",
      "[300]\ttrain-rmse:0.329554\ttest-rmse:0.464507\n",
      "[301]\ttrain-rmse:0.32884\ttest-rmse:0.46442\n",
      "[302]\ttrain-rmse:0.328322\ttest-rmse:0.464374\n",
      "[303]\ttrain-rmse:0.32783\ttest-rmse:0.464304\n",
      "[304]\ttrain-rmse:0.327316\ttest-rmse:0.464241\n",
      "[305]\ttrain-rmse:0.32673\ttest-rmse:0.464154\n",
      "[306]\ttrain-rmse:0.32616\ttest-rmse:0.464077\n",
      "[307]\ttrain-rmse:0.325843\ttest-rmse:0.464029\n",
      "[308]\ttrain-rmse:0.325185\ttest-rmse:0.463981\n",
      "[309]\ttrain-rmse:0.324544\ttest-rmse:0.463912\n",
      "[310]\ttrain-rmse:0.32412\ttest-rmse:0.463865\n",
      "[311]\ttrain-rmse:0.323569\ttest-rmse:0.463822\n",
      "[312]\ttrain-rmse:0.323109\ttest-rmse:0.463775\n",
      "[313]\ttrain-rmse:0.322512\ttest-rmse:0.463703\n",
      "[314]\ttrain-rmse:0.321709\ttest-rmse:0.463667\n",
      "[315]\ttrain-rmse:0.321227\ttest-rmse:0.463646\n",
      "[316]\ttrain-rmse:0.320581\ttest-rmse:0.463609\n",
      "[317]\ttrain-rmse:0.320226\ttest-rmse:0.463569\n",
      "[318]\ttrain-rmse:0.31991\ttest-rmse:0.46353\n",
      "[319]\ttrain-rmse:0.319436\ttest-rmse:0.463467\n",
      "[320]\ttrain-rmse:0.318932\ttest-rmse:0.463447\n",
      "[321]\ttrain-rmse:0.318476\ttest-rmse:0.463402\n",
      "[322]\ttrain-rmse:0.317727\ttest-rmse:0.463354\n",
      "[323]\ttrain-rmse:0.317367\ttest-rmse:0.463318\n",
      "[324]\ttrain-rmse:0.316851\ttest-rmse:0.463289\n",
      "[325]\ttrain-rmse:0.316419\ttest-rmse:0.463245\n",
      "[326]\ttrain-rmse:0.316022\ttest-rmse:0.463203\n",
      "[327]\ttrain-rmse:0.315468\ttest-rmse:0.463177\n",
      "[328]\ttrain-rmse:0.315113\ttest-rmse:0.463168\n",
      "[329]\ttrain-rmse:0.314705\ttest-rmse:0.463136\n",
      "[330]\ttrain-rmse:0.314274\ttest-rmse:0.463128\n",
      "[331]\ttrain-rmse:0.313871\ttest-rmse:0.463114\n",
      "[332]\ttrain-rmse:0.313565\ttest-rmse:0.463068\n",
      "[333]\ttrain-rmse:0.313153\ttest-rmse:0.463034\n",
      "[334]\ttrain-rmse:0.312696\ttest-rmse:0.463002\n",
      "[335]\ttrain-rmse:0.312231\ttest-rmse:0.46299\n",
      "[336]\ttrain-rmse:0.311835\ttest-rmse:0.462979\n",
      "[337]\ttrain-rmse:0.311307\ttest-rmse:0.462941\n",
      "[338]\ttrain-rmse:0.311019\ttest-rmse:0.46292\n",
      "[339]\ttrain-rmse:0.310633\ttest-rmse:0.462906\n",
      "[340]\ttrain-rmse:0.310109\ttest-rmse:0.462905\n",
      "[341]\ttrain-rmse:0.309542\ttest-rmse:0.462892\n",
      "[342]\ttrain-rmse:0.309188\ttest-rmse:0.462883\n",
      "[343]\ttrain-rmse:0.308725\ttest-rmse:0.462824\n",
      "[344]\ttrain-rmse:0.308417\ttest-rmse:0.462814\n",
      "[345]\ttrain-rmse:0.308119\ttest-rmse:0.462793\n",
      "[346]\ttrain-rmse:0.307638\ttest-rmse:0.462769\n",
      "[347]\ttrain-rmse:0.307227\ttest-rmse:0.462765\n",
      "[348]\ttrain-rmse:0.306926\ttest-rmse:0.462741\n",
      "[349]\ttrain-rmse:0.306513\ttest-rmse:0.462722\n",
      "[350]\ttrain-rmse:0.306082\ttest-rmse:0.462708\n",
      "[351]\ttrain-rmse:0.30567\ttest-rmse:0.462704\n",
      "[352]\ttrain-rmse:0.305128\ttest-rmse:0.462689\n",
      "[353]\ttrain-rmse:0.304738\ttest-rmse:0.46266\n",
      "[354]\ttrain-rmse:0.304336\ttest-rmse:0.462669\n",
      "[355]\ttrain-rmse:0.303923\ttest-rmse:0.462626\n",
      "[356]\ttrain-rmse:0.30346\ttest-rmse:0.4626\n",
      "[357]\ttrain-rmse:0.302867\ttest-rmse:0.462587\n",
      "[358]\ttrain-rmse:0.302243\ttest-rmse:0.462584\n",
      "[359]\ttrain-rmse:0.301782\ttest-rmse:0.462567\n",
      "[360]\ttrain-rmse:0.301407\ttest-rmse:0.462578\n",
      "[361]\ttrain-rmse:0.301032\ttest-rmse:0.462579\n",
      "[362]\ttrain-rmse:0.300568\ttest-rmse:0.462565\n",
      "[363]\ttrain-rmse:0.300148\ttest-rmse:0.462564\n",
      "[364]\ttrain-rmse:0.299689\ttest-rmse:0.462549\n",
      "[365]\ttrain-rmse:0.299182\ttest-rmse:0.462528\n",
      "[366]\ttrain-rmse:0.298823\ttest-rmse:0.46251\n",
      "[367]\ttrain-rmse:0.298315\ttest-rmse:0.46253\n",
      "[368]\ttrain-rmse:0.297962\ttest-rmse:0.462498\n",
      "[369]\ttrain-rmse:0.29768\ttest-rmse:0.462488\n",
      "[370]\ttrain-rmse:0.297231\ttest-rmse:0.462476\n",
      "[371]\ttrain-rmse:0.296806\ttest-rmse:0.462494\n",
      "[372]\ttrain-rmse:0.296456\ttest-rmse:0.462471\n",
      "[373]\ttrain-rmse:0.296014\ttest-rmse:0.462443\n",
      "[374]\ttrain-rmse:0.295605\ttest-rmse:0.462426\n",
      "[375]\ttrain-rmse:0.295213\ttest-rmse:0.462391\n",
      "[376]\ttrain-rmse:0.294803\ttest-rmse:0.462389\n",
      "[377]\ttrain-rmse:0.294276\ttest-rmse:0.462407\n",
      "[378]\ttrain-rmse:0.293874\ttest-rmse:0.462425\n",
      "[379]\ttrain-rmse:0.293503\ttest-rmse:0.462434\n",
      "[380]\ttrain-rmse:0.293037\ttest-rmse:0.462437\n",
      "[381]\ttrain-rmse:0.292627\ttest-rmse:0.462448\n",
      "[382]\ttrain-rmse:0.292308\ttest-rmse:0.46244\n",
      "[383]\ttrain-rmse:0.291915\ttest-rmse:0.462419\n",
      "[384]\ttrain-rmse:0.2914\ttest-rmse:0.462432\n",
      "[385]\ttrain-rmse:0.291021\ttest-rmse:0.462429\n",
      "[386]\ttrain-rmse:0.290432\ttest-rmse:0.462444\n",
      "[387]\ttrain-rmse:0.290107\ttest-rmse:0.462406\n",
      "[388]\ttrain-rmse:0.289643\ttest-rmse:0.462394\n",
      "[389]\ttrain-rmse:0.289323\ttest-rmse:0.462417\n",
      "[390]\ttrain-rmse:0.289037\ttest-rmse:0.462413\n",
      "[391]\ttrain-rmse:0.288598\ttest-rmse:0.462414\n",
      "[392]\ttrain-rmse:0.288281\ttest-rmse:0.462414\n",
      "[393]\ttrain-rmse:0.287729\ttest-rmse:0.46242\n",
      "[394]\ttrain-rmse:0.287375\ttest-rmse:0.462417\n",
      "[395]\ttrain-rmse:0.286919\ttest-rmse:0.462401\n"
     ]
    }
   ],
   "source": [
    "import xgboost as xgb\n",
    "\n",
    "xgb_params = {\n",
    "    'eta': 0.02,\n",
    "    'max_depth': 10,\n",
    "    'subsample': 0.7,\n",
    "    'colsample_bytree': 0.7,\n",
    "    'objective': 'reg:linear',\n",
    "    'eval_metric': 'rmse',\n",
    "    'silent': 1\n",
    "}\n",
    "\n",
    "dtrain = xgb.DMatrix(X_train_l, y_train_l, feature_names=X_train_l.columns)\n",
    "dtest = xgb.DMatrix(X_test_l, feature_names=X_test_l.columns)\n",
    "\n",
    "\n",
    "cv_result = xgb.cv(xgb_params, dtrain, num_boost_round=1000, \n",
    "                   early_stopping_rounds=20, verbose_eval=True, show_stdv=False)"
   ]
  },
  {
   "cell_type": "code",
   "execution_count": 48,
   "metadata": {
    "collapsed": false
   },
   "outputs": [
    {
     "data": {
      "text/plain": [
       "<matplotlib.figure.Figure at 0x1254bf350>"
      ]
     },
     "metadata": {},
     "output_type": "display_data"
    },
    {
     "data": {
      "image/png": "[encoded data removed]",
      "text/plain": [
       "<matplotlib.figure.Figure at 0x1198def90>"
      ]
     },
     "metadata": {},
     "output_type": "display_data"
    }
   ],
   "source": [
    "plt.figure(figsize=(14,4),dpi=80)\n",
    "cv_result[['train-rmse-mean', 'test-rmse-mean']].plot()\n",
    "plt.xlabel('# of Boosted Rounds')\n",
    "plt.ylabel('RMSE (Root Mean Squared Error)')\n",
    "plt.show()"
   ]
  },
  {
   "cell_type": "code",
   "execution_count": 49,
   "metadata": {
    "collapsed": false
   },
   "outputs": [
    {
     "data": {
      "text/plain": [
       "<matplotlib.axes._subplots.AxesSubplot at 0x126d6d350>"
      ]
     },
     "execution_count": 49,
     "metadata": {},
     "output_type": "execute_result"
    },
    {
     "data": {
      "image/png": "[encoded data removed]",
      "text/plain": [
       "<matplotlib.figure.Figure at 0x121dc1290>"
      ]
     },
     "metadata": {},
     "output_type": "display_data"
    }
   ],
   "source": [
    "fig, ax = plt.subplots(1, 1, figsize=(14, 6))\n",
    "xgb.plot_importance(model, height=0.2, ax=ax)"
   ]
  },
  {
   "cell_type": "code",
   "execution_count": 50,
   "metadata": {
    "collapsed": false
   },
   "outputs": [],
   "source": [
    "num_boost_round = 819\n",
    "\n",
    "model = xgb.train(dict(xgb_params, silent=0), dtrain, num_boost_round=num_boost_round)"
   ]
  },
  {
   "cell_type": "code",
   "execution_count": 54,
   "metadata": {
    "collapsed": false
   },
   "outputs": [],
   "source": [
    "y_pred = model.predict(dtest)"
   ]
  },
  {
   "cell_type": "code",
   "execution_count": 55,
   "metadata": {
    "collapsed": false
   },
   "outputs": [
    {
     "data": {
      "text/plain": [
       "array([ 15.47372913,  15.99097443,  15.41759109, ...,  15.38066578,\n",
       "        15.49134064,  16.09592628], dtype=float32)"
      ]
     },
     "execution_count": 55,
     "metadata": {},
     "output_type": "execute_result"
    }
   ],
   "source": [
    "y_pred"
   ]
  },
  {
   "cell_type": "code",
   "execution_count": 56,
   "metadata": {
    "collapsed": false
   },
   "outputs": [],
   "source": [
    "y_test = np.expm1(y_pred)"
   ]
  },
  {
   "cell_type": "code",
   "execution_count": 57,
   "metadata": {
    "collapsed": false
   },
   "outputs": [
    {
     "data": {
      "text/plain": [
       "array([ 5249949. ,  8806268. ,  4963347. , ...,  4783416.5,  5343227.5,\n",
       "        9780745. ], dtype=float32)"
      ]
     },
     "execution_count": 57,
     "metadata": {},
     "output_type": "execute_result"
    }
   ],
   "source": [
    "y_test"
   ]
  },
  {
   "cell_type": "code",
   "execution_count": 58,
   "metadata": {
    "collapsed": false
   },
   "outputs": [
    {
     "data": {
      "text/html": [
       "<div>\n",
       "<style>\n",
       "    .dataframe thead tr:only-child th {\n",
       "        text-align: right;\n",
       "    }\n",
       "\n",
       "    .dataframe thead th {\n",
       "        text-align: left;\n",
       "    }\n",
       "\n",
       "    .dataframe tbody tr th {\n",
       "        vertical-align: top;\n",
       "    }\n",
       "</style>\n",
       "<table border=\"1\" class=\"dataframe\">\n",
       "  <thead>\n",
       "    <tr style=\"text-align: right;\">\n",
       "      <th></th>\n",
       "      <th>id</th>\n",
       "      <th>price_doc</th>\n",
       "    </tr>\n",
       "  </thead>\n",
       "  <tbody>\n",
       "    <tr>\n",
       "      <th>0</th>\n",
       "      <td>30474</td>\n",
       "      <td>7118500.41</td>\n",
       "    </tr>\n",
       "    <tr>\n",
       "      <th>1</th>\n",
       "      <td>30475</td>\n",
       "      <td>7118500.41</td>\n",
       "    </tr>\n",
       "    <tr>\n",
       "      <th>2</th>\n",
       "      <td>30476</td>\n",
       "      <td>7118500.41</td>\n",
       "    </tr>\n",
       "    <tr>\n",
       "      <th>3</th>\n",
       "      <td>30477</td>\n",
       "      <td>7118500.41</td>\n",
       "    </tr>\n",
       "    <tr>\n",
       "      <th>4</th>\n",
       "      <td>30478</td>\n",
       "      <td>7118500.41</td>\n",
       "    </tr>\n",
       "    <tr>\n",
       "      <th>5</th>\n",
       "      <td>30479</td>\n",
       "      <td>7118500.41</td>\n",
       "    </tr>\n",
       "    <tr>\n",
       "      <th>6</th>\n",
       "      <td>30480</td>\n",
       "      <td>7118500.41</td>\n",
       "    </tr>\n",
       "    <tr>\n",
       "      <th>7</th>\n",
       "      <td>30481</td>\n",
       "      <td>7118500.41</td>\n",
       "    </tr>\n",
       "    <tr>\n",
       "      <th>8</th>\n",
       "      <td>30482</td>\n",
       "      <td>7118500.41</td>\n",
       "    </tr>\n",
       "    <tr>\n",
       "      <th>9</th>\n",
       "      <td>30483</td>\n",
       "      <td>7118500.41</td>\n",
       "    </tr>\n",
       "  </tbody>\n",
       "</table>\n",
       "</div>"
      ],
      "text/plain": [
       "      id   price_doc\n",
       "0  30474  7118500.41\n",
       "1  30475  7118500.41\n",
       "2  30476  7118500.41\n",
       "3  30477  7118500.41\n",
       "4  30478  7118500.41\n",
       "5  30479  7118500.41\n",
       "6  30480  7118500.41\n",
       "7  30481  7118500.41\n",
       "8  30482  7118500.41\n",
       "9  30483  7118500.41"
      ]
     },
     "execution_count": 58,
     "metadata": {},
     "output_type": "execute_result"
    }
   ],
   "source": [
    "sample = pd.read_csv('../sample_submission.csv', index_col=False)\n",
    "\n",
    "sample.head(10)"
   ]
  },
  {
   "cell_type": "code",
   "execution_count": 59,
   "metadata": {
    "collapsed": true
   },
   "outputs": [],
   "source": [
    "sample['price_doc'] = y_test"
   ]
  },
  {
   "cell_type": "code",
   "execution_count": 60,
   "metadata": {
    "collapsed": false
   },
   "outputs": [],
   "source": [
    "sample.to_csv('./xgboost_lowsplit_053017.csv', index=False)"
   ]
  }
 ],
 "metadata": {
  "kernelspec": {
   "display_name": "Python 2",
   "language": "python",
   "name": "python2"
  },
  "language_info": {
   "codemirror_mode": {
    "name": "ipython",
    "version": 2
   },
   "file_extension": ".py",
   "mimetype": "text/x-python",
   "name": "python",
   "nbconvert_exporter": "python",
   "pygments_lexer": "ipython2",
   "version": "2.7.13"
  }
 },
 "nbformat": 4,
 "nbformat_minor": 2
}
