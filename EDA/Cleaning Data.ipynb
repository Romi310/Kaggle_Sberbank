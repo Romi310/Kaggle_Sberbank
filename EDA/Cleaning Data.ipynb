{
 "cells": [
  {
   "cell_type": "markdown",
   "metadata": {},
   "source": [
    "# Data Cleaning \n",
    "\n",
    "### From Kaggle Kernels:\n",
    "#### Extensive Sberbank Exploratory Analysis:\n",
    "**source:** https://www.kaggle.com/captcalculator/a-very-extensive-sberbank-exploratory-analysis/comments#latest-185178\n",
    "\n",
    "* 37 observations where life_sq is greater than full_sq.\n",
    "* A vast majority of the apartments have three rooms or less.\n",
    "* Look to see how life sq ~ price changes based on sub-area or distance to kremlin\n",
    "* Home price does seem to increase with population density.\n",
    "* There does not appear to be a relationship between the mean home price in a district and the district’s share of working age population.\n",
    "* Surprisingly, there is little to no correlation between price and the school variables. The school variables however are highly correlated with each other, indicating that we would not want to use all of them in a linear regression model due to multicollinearity.\n",
    "* homes with >3 top 20 universities show signs of correlation, but only one house fits that description.\n",
    "* raions that have a top 25 cultural object have a median home sale price that is higher by 1.2 million (using this feature as a factor)\n",
    "* strong positive correlation between sport_objects_raion and price_doc\n",
    "\n",
    "#### Simple Exploration Notebook - Sberbank\n",
    "**source:** https://www.kaggle.com/sudalairajkumar/simple-exploration-notebook-sberbank/comments/notebook\n",
    "\n",
    "* overall increasing trend in price as floor_num increases. A sudden increase in the house price is also observed at floor 18.\n",
    "* Individual houses seems to be costlier, check price of 0 floor houses.\n",
    "\n",
    "#### Map visualizations with external shapefile\n",
    "**source:** https://www.kaggle.com/jtremoureux/map-visualizations-with-external-shapefile/notebook\n",
    "\n",
    "* replace regions with map shapefile coordinates\n",
    "\n"
   ]
  },
  {
   "cell_type": "markdown",
   "metadata": {},
   "source": [
    "## Import Libraries & Data"
   ]
  },
  {
   "cell_type": "code",
   "execution_count": 1,
   "metadata": {
    "collapsed": false
   },
   "outputs": [],
   "source": [
    "import pandas as pd\n",
    "import numpy as np\n",
    "from sklearn import preprocessing\n",
    "from datetime import datetime\n",
    "from matplotlib import pyplot as plt\n",
    "import seaborn as sns\n",
    "\n",
    "%matplotlib inline"
   ]
  },
  {
   "cell_type": "code",
   "execution_count": 2,
   "metadata": {
    "collapsed": true
   },
   "outputs": [],
   "source": [
    "# load dataset\n",
    "train_df = pd.read_csv(\"../Sberbank/train.csv\", parse_dates=['timestamp'], index_col=False, low_memory=False)\n",
    "test_df = pd.read_csv(\"../Sberbank/test.csv\", parse_dates=['timestamp'], index_col=False, low_memory=False)\n",
    "macro_df = pd.read_csv(\"../Sberbank/macro.csv\", parse_dates=['timestamp'], index_col=False, low_memory=False)"
   ]
  },
  {
   "cell_type": "code",
   "execution_count": null,
   "metadata": {
    "collapsed": true
   },
   "outputs": [],
   "source": []
  },
  {
   "cell_type": "markdown",
   "metadata": {},
   "source": [
    "### Merge Train & Test"
   ]
  },
  {
   "cell_type": "code",
   "execution_count": 3,
   "metadata": {
    "collapsed": true
   },
   "outputs": [],
   "source": [
    "frames = [train_df, test_df]\n",
    "\n",
    "df = pd.concat(frames)"
   ]
  },
  {
   "cell_type": "markdown",
   "metadata": {},
   "source": [
    "### Add Macro"
   ]
  },
  {
   "cell_type": "code",
   "execution_count": 4,
   "metadata": {
    "collapsed": true
   },
   "outputs": [],
   "source": [
    "# add macro data to train/test data\n",
    "\n",
    "train_df = pd.merge(train_df, macro_df, how='left', on='timestamp')\n",
    "test_df = pd.merge(test_df, macro_df, how='left', on='timestamp')\n",
    "\n",
    "df = pd.merge(df, macro_df, how='left', on='timestamp')"
   ]
  },
  {
   "cell_type": "markdown",
   "metadata": {},
   "source": [
    "### Features of Importance"
   ]
  },
  {
   "cell_type": "code",
   "execution_count": 5,
   "metadata": {
    "collapsed": false
   },
   "outputs": [],
   "source": [
    "features = pd.read_csv('../EDA/submissions/features.csv', squeeze=True)\n",
    "features = features.ravel()"
   ]
  },
  {
   "cell_type": "code",
   "execution_count": 6,
   "metadata": {
    "collapsed": false
   },
   "outputs": [
    {
     "data": {
      "text/plain": [
       "array(['floor', 'max_floor', 'state', 'indust_part',\n",
       "       'school_education_centers_raion', '16_29_female',\n",
       "       'build_count_monolith', 'metro_km_walk', 'kindergarten_km',\n",
       "       'school_km', 'green_zone_km', 'public_transport_station_min_walk',\n",
       "       'ttk_km', 'ID_big_road2', 'ID_bus_terminal', 'oil_chemistry_km',\n",
       "       'fitness_km', 'swim_pool_km', 'public_healthcare_km',\n",
       "       'workplaces_km', 'mosque_km', 'theater_km', 'catering_km',\n",
       "       'green_part_500', 'office_sqm_500', 'cafe_count_500_price_4000',\n",
       "       'cafe_count_500_price_high', 'church_count_500',\n",
       "       'leisure_count_500', 'cafe_count_1000_price_high', 'prom_part_1500',\n",
       "       'cafe_sum_1500_max_price_avg', 'big_church_count_1500',\n",
       "       'mosque_count_1500', 'cafe_count_2000',\n",
       "       'cafe_sum_2000_min_price_avg', 'big_church_count_2000',\n",
       "       'prom_part_3000', 'cafe_count_3000_price_2500', 'sport_count_3000',\n",
       "       'cafe_count_5000_price_2500', 'cafe_count_5000_price_high',\n",
       "       'mosque_count_5000', 'rts', 'micex_rgbi_tr', 'cpi', 'product_type',\n",
       "       'sub_area', 'big_road1_1line', 'railroad_1line'], dtype=object)"
      ]
     },
     "execution_count": 6,
     "metadata": {},
     "output_type": "execute_result"
    }
   ],
   "source": [
    "features"
   ]
  },
  {
   "cell_type": "markdown",
   "metadata": {},
   "source": [
    "## Manual Imputing/Removal of Observations:"
   ]
  },
  {
   "cell_type": "code",
   "execution_count": 7,
   "metadata": {
    "collapsed": true
   },
   "outputs": [],
   "source": [
    "def missing_count(df):\n",
    "    features = {}\n",
    "    for feature in df:\n",
    "        if np.sum(df[feature].isnull()) > 0:\n",
    "            features[feature] = np.sum(df[feature].isnull())\n",
    "    return features"
   ]
  },
  {
   "cell_type": "code",
   "execution_count": 8,
   "metadata": {
    "collapsed": false
   },
   "outputs": [
    {
     "data": {
      "text/plain": [
       "{'build_count_monolith': 6209,\n",
       " 'cafe_sum_1500_max_price_avg': 5020,\n",
       " 'cafe_sum_2000_min_price_avg': 2149,\n",
       " 'floor': 167,\n",
       " 'max_floor': 9572,\n",
       " 'metro_km_walk': 59,\n",
       " 'product_type': 33,\n",
       " 'state': 14253}"
      ]
     },
     "execution_count": 8,
     "metadata": {},
     "output_type": "execute_result"
    }
   ],
   "source": [
    "missing_count(df[features])"
   ]
  },
  {
   "cell_type": "markdown",
   "metadata": {},
   "source": [
    "drop features with missing values in < 100 obs (.33%):"
   ]
  },
  {
   "cell_type": "code",
   "execution_count": 9,
   "metadata": {
    "collapsed": true
   },
   "outputs": [],
   "source": [
    "train_df = train_df.loc[train_df['product_type'].notnull()]\n",
    "train_df = train_df.loc[train_df['metro_km_walk'].notnull()]\n",
    "train_df = train_df.loc[train_df['floor'].notnull()]"
   ]
  },
  {
   "cell_type": "code",
   "execution_count": 10,
   "metadata": {
    "collapsed": false
   },
   "outputs": [
    {
     "data": {
      "text/plain": [
       "Index([u'floor', u'max_floor', u'state', u'indust_part',\n",
       "       u'school_education_centers_raion', u'16_29_female',\n",
       "       u'build_count_monolith', u'metro_km_walk', u'kindergarten_km',\n",
       "       u'school_km', u'green_zone_km', u'public_transport_station_min_walk',\n",
       "       u'ttk_km', u'ID_big_road2', u'ID_bus_terminal', u'oil_chemistry_km',\n",
       "       u'fitness_km', u'swim_pool_km', u'public_healthcare_km',\n",
       "       u'workplaces_km', u'mosque_km', u'theater_km', u'catering_km',\n",
       "       u'green_part_500', u'office_sqm_500', u'cafe_count_500_price_4000',\n",
       "       u'cafe_count_500_price_high', u'church_count_500', u'leisure_count_500',\n",
       "       u'cafe_count_1000_price_high', u'prom_part_1500',\n",
       "       u'cafe_sum_1500_max_price_avg', u'big_church_count_1500',\n",
       "       u'mosque_count_1500', u'cafe_count_2000',\n",
       "       u'cafe_sum_2000_min_price_avg', u'big_church_count_2000',\n",
       "       u'prom_part_3000', u'cafe_count_3000_price_2500', u'sport_count_3000',\n",
       "       u'cafe_count_5000_price_2500', u'cafe_count_5000_price_high',\n",
       "       u'mosque_count_5000', u'rts', u'micex_rgbi_tr', u'cpi', u'product_type',\n",
       "       u'sub_area', u'big_road1_1line', u'railroad_1line'],\n",
       "      dtype='object')"
      ]
     },
     "execution_count": 10,
     "metadata": {},
     "output_type": "execute_result"
    }
   ],
   "source": [
    "missing_count(train_df[features])\n",
    "\n",
    "train_df[features].columns"
   ]
  },
  {
   "cell_type": "markdown",
   "metadata": {},
   "source": [
    "### Cafe"
   ]
  },
  {
   "cell_type": "code",
   "execution_count": 11,
   "metadata": {
    "collapsed": false
   },
   "outputs": [
    {
     "data": {
      "text/html": [
       "<div>\n",
       "<style>\n",
       "    .dataframe thead tr:only-child th {\n",
       "        text-align: right;\n",
       "    }\n",
       "\n",
       "    .dataframe thead th {\n",
       "        text-align: left;\n",
       "    }\n",
       "\n",
       "    .dataframe tbody tr th {\n",
       "        vertical-align: top;\n",
       "    }\n",
       "</style>\n",
       "<table border=\"1\" class=\"dataframe\">\n",
       "  <thead>\n",
       "    <tr style=\"text-align: right;\">\n",
       "      <th></th>\n",
       "      <th>cafe_sum_1500_max_price_avg</th>\n",
       "      <th>price_doc</th>\n",
       "    </tr>\n",
       "  </thead>\n",
       "  <tbody>\n",
       "    <tr>\n",
       "      <th>cafe_sum_1500_max_price_avg</th>\n",
       "      <td>1.000000</td>\n",
       "      <td>0.105952</td>\n",
       "    </tr>\n",
       "    <tr>\n",
       "      <th>price_doc</th>\n",
       "      <td>0.105952</td>\n",
       "      <td>1.000000</td>\n",
       "    </tr>\n",
       "  </tbody>\n",
       "</table>\n",
       "</div>"
      ],
      "text/plain": [
       "                             cafe_sum_1500_max_price_avg  price_doc\n",
       "cafe_sum_1500_max_price_avg                     1.000000   0.105952\n",
       "price_doc                                       0.105952   1.000000"
      ]
     },
     "execution_count": 11,
     "metadata": {},
     "output_type": "execute_result"
    }
   ],
   "source": [
    "df.loc[df['cafe_sum_1500_max_price_avg'].notnull() & df['price_doc'].notnull(), ['cafe_sum_1500_max_price_avg','price_doc']].corr()"
   ]
  },
  {
   "cell_type": "code",
   "execution_count": 12,
   "metadata": {
    "collapsed": false
   },
   "outputs": [
    {
     "data": {
      "text/html": [
       "<div>\n",
       "<style>\n",
       "    .dataframe thead tr:only-child th {\n",
       "        text-align: right;\n",
       "    }\n",
       "\n",
       "    .dataframe thead th {\n",
       "        text-align: left;\n",
       "    }\n",
       "\n",
       "    .dataframe tbody tr th {\n",
       "        vertical-align: top;\n",
       "    }\n",
       "</style>\n",
       "<table border=\"1\" class=\"dataframe\">\n",
       "  <thead>\n",
       "    <tr style=\"text-align: right;\">\n",
       "      <th></th>\n",
       "      <th>cafe_sum_1500_max_price_avg</th>\n",
       "      <th>cafe_sum_1500_min_price_avg</th>\n",
       "      <th>price_doc</th>\n",
       "    </tr>\n",
       "  </thead>\n",
       "  <tbody>\n",
       "    <tr>\n",
       "      <th>cafe_sum_1500_max_price_avg</th>\n",
       "      <td>1.000000</td>\n",
       "      <td>0.981789</td>\n",
       "      <td>0.105952</td>\n",
       "    </tr>\n",
       "    <tr>\n",
       "      <th>cafe_sum_1500_min_price_avg</th>\n",
       "      <td>0.981789</td>\n",
       "      <td>1.000000</td>\n",
       "      <td>0.104644</td>\n",
       "    </tr>\n",
       "    <tr>\n",
       "      <th>price_doc</th>\n",
       "      <td>0.105952</td>\n",
       "      <td>0.104644</td>\n",
       "      <td>1.000000</td>\n",
       "    </tr>\n",
       "  </tbody>\n",
       "</table>\n",
       "</div>"
      ],
      "text/plain": [
       "                             cafe_sum_1500_max_price_avg  \\\n",
       "cafe_sum_1500_max_price_avg                     1.000000   \n",
       "cafe_sum_1500_min_price_avg                     0.981789   \n",
       "price_doc                                       0.105952   \n",
       "\n",
       "                             cafe_sum_1500_min_price_avg  price_doc  \n",
       "cafe_sum_1500_max_price_avg                     0.981789   0.105952  \n",
       "cafe_sum_1500_min_price_avg                     1.000000   0.104644  \n",
       "price_doc                                       0.104644   1.000000  "
      ]
     },
     "execution_count": 12,
     "metadata": {},
     "output_type": "execute_result"
    }
   ],
   "source": [
    "df[['cafe_sum_1500_max_price_avg', 'cafe_sum_1500_min_price_avg','price_doc']].corr()"
   ]
  },
  {
   "cell_type": "markdown",
   "metadata": {},
   "source": [
    "Drop `df['cafe_sum_1500_min_price_avg']` as min and max are essentially the same are essentially the same feature."
   ]
  },
  {
   "cell_type": "markdown",
   "metadata": {},
   "source": [
    "#### Impute Missing `cafe_sum_1500_max_price_avg` observations."
   ]
  },
  {
   "cell_type": "markdown",
   "metadata": {},
   "source": [
    "Can we use the other cafe values to better predict the missing values in sum_1500_max?"
   ]
  },
  {
   "cell_type": "code",
   "execution_count": 13,
   "metadata": {
    "collapsed": true
   },
   "outputs": [],
   "source": [
    "cafe = ['cafe_sum_500_min_price_avg', 'cafe_sum_500_max_price_avg',\n",
    "      'cafe_avg_price_500', 'cafe_sum_1000_min_price_avg','cafe_sum_1000_max_price_avg', \n",
    "      'cafe_avg_price_1000', 'cafe_sum_1500_min_price_avg', 'cafe_sum_1500_max_price_avg', \n",
    "      'cafe_avg_price_1500', 'cafe_sum_2000_min_price_avg', 'cafe_sum_2000_max_price_avg', \n",
    "      'cafe_avg_price_2000', 'cafe_sum_3000_min_price_avg', 'cafe_sum_3000_max_price_avg',\n",
    "      'cafe_avg_price_3000',  'cafe_sum_5000_min_price_avg', 'cafe_sum_5000_max_price_avg',\n",
    "      'cafe_avg_price_5000','cafe_count_5000_price_high','cafe_count_500', 'cafe_count_500_na_price',\n",
    "        'cafe_count_500_price_500', 'cafe_count_500_price_1000',\n",
    "       'cafe_count_500_price_1500', 'cafe_count_500_price_2500',\n",
    "       'cafe_count_500_price_4000', 'cafe_count_500_price_high', 'cafe_count_1000', \n",
    "       'cafe_count_1000_na_price', 'cafe_count_1000_price_500',\n",
    "       'cafe_count_1000_price_1000', 'cafe_count_1000_price_1500',\n",
    "       'cafe_count_1000_price_2500', 'cafe_count_1000_price_4000',\n",
    "       'cafe_count_1000_price_high','cafe_count_1500',\n",
    "       'cafe_count_1500_na_price',\n",
    "       'cafe_count_1500_price_500', 'cafe_count_1500_price_1000',\n",
    "       'cafe_count_1500_price_1500', 'cafe_count_1500_price_2500',\n",
    "       'cafe_count_1500_price_4000', 'cafe_count_1500_price_high', 'cafe_count_2000', \n",
    "       'cafe_count_2000_na_price', 'cafe_count_2000_price_500',\n",
    "       'cafe_count_2000_price_1000', 'cafe_count_2000_price_1500',\n",
    "       'cafe_count_2000_price_2500', 'cafe_count_2000_price_4000',\n",
    "       'cafe_count_2000_price_high', 'cafe_count_3000', 'cafe_count_3000_na_price',\n",
    "       'cafe_count_3000_price_500', 'cafe_count_3000_price_1000',\n",
    "       'cafe_count_3000_price_1500', 'cafe_count_3000_price_2500',\n",
    "       'cafe_count_3000_price_4000', 'cafe_count_3000_price_high','cafe_count_5000',\n",
    "       'cafe_count_5000_na_price', 'cafe_count_5000_price_500',\n",
    "       'cafe_count_5000_price_1000', 'cafe_count_5000_price_1500',\n",
    "       'cafe_count_5000_price_2500', 'cafe_count_5000_price_4000',\n",
    "       'cafe_count_5000_price_high']"
   ]
  },
  {
   "cell_type": "code",
   "execution_count": 14,
   "metadata": {
    "collapsed": false,
    "scrolled": true
   },
   "outputs": [
    {
     "ename": "NameError",
     "evalue": "name 'missing_cafe_df' is not defined",
     "output_type": "error",
     "traceback": [
      "\u001b[0;31m---------------------------------------------------------------------------\u001b[0m",
      "\u001b[0;31mNameError\u001b[0m                                 Traceback (most recent call last)",
      "\u001b[0;32m<ipython-input-14-038fd8abdcf0>\u001b[0m in \u001b[0;36m<module>\u001b[0;34m()\u001b[0m\n\u001b[0;32m----> 1\u001b[0;31m \u001b[0mcafe_impfeats\u001b[0m \u001b[0;34m=\u001b[0m \u001b[0mmissing_cafe_df\u001b[0m\u001b[0;34m.\u001b[0m\u001b[0mapply\u001b[0m\u001b[0;34m(\u001b[0m\u001b[0;32mlambda\u001b[0m \u001b[0mx\u001b[0m\u001b[0;34m:\u001b[0m \u001b[0mnp\u001b[0m\u001b[0;34m.\u001b[0m\u001b[0msum\u001b[0m\u001b[0;34m(\u001b[0m\u001b[0mx\u001b[0m\u001b[0;34m.\u001b[0m\u001b[0mnotnull\u001b[0m\u001b[0;34m(\u001b[0m\u001b[0;34m)\u001b[0m\u001b[0;34m)\u001b[0m\u001b[0;34m)\u001b[0m\u001b[0;34m.\u001b[0m\u001b[0msort_values\u001b[0m\u001b[0;34m(\u001b[0m\u001b[0mascending\u001b[0m\u001b[0;34m=\u001b[0m\u001b[0mFalse\u001b[0m\u001b[0;34m)\u001b[0m \u001b[0;34m>\u001b[0m \u001b[0;36m4000\u001b[0m\u001b[0;34m\u001b[0m\u001b[0m\n\u001b[0m\u001b[1;32m      2\u001b[0m \u001b[0mcafe_impfeats\u001b[0m \u001b[0;34m=\u001b[0m \u001b[0mcafe_impfeats\u001b[0m\u001b[0;34m.\u001b[0m\u001b[0mloc\u001b[0m\u001b[0;34m[\u001b[0m\u001b[0mcafe_impfeats\u001b[0m\u001b[0;34m]\u001b[0m\u001b[0;34m\u001b[0m\u001b[0m\n\u001b[1;32m      3\u001b[0m \u001b[0mcafe_impfeats\u001b[0m \u001b[0;34m=\u001b[0m \u001b[0mcafe_impfeats\u001b[0m\u001b[0;34m.\u001b[0m\u001b[0mkeys\u001b[0m\u001b[0;34m(\u001b[0m\u001b[0;34m)\u001b[0m\u001b[0;34m.\u001b[0m\u001b[0mravel\u001b[0m\u001b[0;34m(\u001b[0m\u001b[0;34m)\u001b[0m\u001b[0;34m\u001b[0m\u001b[0m\n",
      "\u001b[0;31mNameError\u001b[0m: name 'missing_cafe_df' is not defined"
     ]
    }
   ],
   "source": [
    "cafe_impfeats = missing_cafe_df.apply(lambda x: np.sum(x.notnull())).sort_values(ascending=False) > 4000\n",
    "cafe_impfeats = cafe_impfeats.loc[cafe_impfeats]\n",
    "cafe_impfeats = cafe_impfeats.keys().ravel()"
   ]
  },
  {
   "cell_type": "code",
   "execution_count": 15,
   "metadata": {
    "collapsed": false
   },
   "outputs": [
    {
     "data": {
      "text/plain": [
       "<matplotlib.axes._subplots.AxesSubplot at 0x121716210>"
      ]
     },
     "execution_count": 15,
     "metadata": {},
     "output_type": "execute_result"
    },
    {
     "data": {
      "image/png": "[encoded data removed]",
      "text/plain": [
       "<matplotlib.figure.Figure at 0x121716250>"
      ]
     },
     "metadata": {},
     "output_type": "display_data"
    }
   ],
   "source": [
    "plt.figure(figsize=(4,4), dpi=80)\n",
    "sns.boxplot(df.loc[df['cafe_sum_1500_max_price_avg'].notnull(), 'cafe_sum_1500_max_price_avg'], orient='vertical', whis=1.6)"
   ]
  },
  {
   "cell_type": "markdown",
   "metadata": {},
   "source": [
    "##### remove outlier values"
   ]
  },
  {
   "cell_type": "code",
   "execution_count": 16,
   "metadata": {
    "collapsed": false
   },
   "outputs": [],
   "source": [
    "def sd_range(df, feature, sd):\n",
    "    return df.loc[(df[feature] - np.mean(df[feature])).abs() / np.std(df[feature]) < sd]\n",
    "\n",
    "def outliers(df, feature, arange):\n",
    "    df[feature] = df.loc[df[feature].notnull()]\n",
    "    for sd in arange:\n",
    "        remaining = sd_range(df, feature, sd)\n",
    "        percent = np.float(len(remaining))/np.float(len(df[feature]))\n",
    "        print 'Within {0} SD, Remaining Obs: {1}, Percent: {2}'.format(sd,len(remaining),round(percent, 4)*100)\n",
    "    \n",
    "# def sd_range(df, feature, sd):\n",
    "#     return df.loc[(df[feature] - np.mean(df[feature])).abs() / np.std(df[feature]) < sd]"
   ]
  },
  {
   "cell_type": "code",
   "execution_count": 19,
   "metadata": {
    "collapsed": false
   },
   "outputs": [],
   "source": [
    "# print outliers(train_df, 'floor', np.arange(1.5,4,0.5))\n",
    "\n",
    "train_df = sd_range(train_df, 'floor', 3)"
   ]
  },
  {
   "cell_type": "markdown",
   "metadata": {},
   "source": [
    "remove observations outside 3 SD."
   ]
  },
  {
   "cell_type": "code",
   "execution_count": 24,
   "metadata": {
    "collapsed": false
   },
   "outputs": [],
   "source": [
    "frames = [train_df, test_df]\n",
    "\n",
    "df = pd.concat(frames)"
   ]
  },
  {
   "cell_type": "markdown",
   "metadata": {},
   "source": [
    "### Floor"
   ]
  },
  {
   "cell_type": "code",
   "execution_count": 21,
   "metadata": {
    "collapsed": false
   },
   "outputs": [
    {
     "data": {
      "text/plain": [
       "build_count_1946-1970                    -0.141914\n",
       "build_count_block                        -0.138960\n",
       "market_count_5000                        -0.114753\n",
       "state                                    -0.107982\n",
       "public_transport_station_km              -0.104179\n",
       "public_transport_station_min_walk        -0.104179\n",
       "hospital_beds_raion                      -0.100973\n",
       "sport_count_5000                         -0.093445\n",
       "prom_part_5000                           -0.091387\n",
       "preschool_km                             -0.084468\n",
       "build_count_brick                        -0.083782\n",
       "school_km                                -0.083164\n",
       "sport_count_3000                         -0.081205\n",
       "metro_min_walk                           -0.080413\n",
       "metro_km_walk                            -0.080413\n",
       "mkad_km                                  -0.079928\n",
       "market_count_2000                        -0.077432\n",
       "ts_km                                    -0.076820\n",
       "shopping_centers_km                      -0.075829\n",
       "trc_sqm_5000                             -0.075822\n",
       "trc_count_5000                           -0.073810\n",
       "market_count_3000                        -0.073662\n",
       "metro_km_avto                            -0.073312\n",
       "ekder_female                             -0.072587\n",
       "sport_count_2000                         -0.072566\n",
       "ekder_all                                -0.072258\n",
       "water_treatment_km                       -0.072255\n",
       "metro_min_avto                           -0.072240\n",
       "church_synagogue_km                      -0.072121\n",
       "ekder_male                               -0.070740\n",
       "                                            ...   \n",
       "oil_chemistry_km                          0.039857\n",
       "cafe_sum_5000_max_price_avg               0.039953\n",
       "bulvar_ring_km                            0.040205\n",
       "cafe_sum_3000_max_price_avg               0.040347\n",
       "sadovoe_km                                0.040402\n",
       "build_count_monolith                      0.040520\n",
       "green_zone_km                             0.040660\n",
       "prom_part_500                             0.040865\n",
       "real_dispos_income_per_cap_growth         0.041998\n",
       "life_sq                                   0.043822\n",
       "build_count_mix                           0.044813\n",
       "perinatal_mort_per_1000_cap               0.045159\n",
       "infant_mortarity_per_1000_cap             0.045806\n",
       "lodging_sqm_per_cap                       0.046224\n",
       "trc_count_500                             0.048848\n",
       "zd_vokzaly_avto_km                        0.049532\n",
       "theaters_viewers_per_1000_cap             0.049763\n",
       "build_count_frame                         0.050654\n",
       "pop_migration                             0.050691\n",
       "pop_total_inc                             0.052117\n",
       "build_count_after_1995                    0.052956\n",
       "load_of_teachers_preschool_per_teacher    0.056624\n",
       "preschool_quota                           0.057816\n",
       "provision_retail_space_sqm                0.077324\n",
       "school_quota                              0.078657\n",
       "full_sq                                   0.091234\n",
       "price_doc                                 0.117447\n",
       "max_floor                                 0.443047\n",
       "floor                                     1.000000\n",
       "provision_retail_space_modern_sqm              NaN\n",
       "Name: floor, Length: 372, dtype: float64"
      ]
     },
     "execution_count": 21,
     "metadata": {},
     "output_type": "execute_result"
    }
   ],
   "source": [
    "df.loc[df['floor'].notnull()].corr()['floor'].sort_values()"
   ]
  },
  {
   "cell_type": "code",
   "execution_count": 22,
   "metadata": {
    "collapsed": false
   },
   "outputs": [
    {
     "data": {
      "text/plain": [
       "(38133, 391)"
      ]
     },
     "execution_count": 22,
     "metadata": {},
     "output_type": "execute_result"
    }
   ],
   "source": [
    "df.shape"
   ]
  },
  {
   "cell_type": "code",
   "execution_count": 23,
   "metadata": {
    "collapsed": false
   },
   "outputs": [
    {
     "data": {
      "text/html": [
       "<div>\n",
       "<style>\n",
       "    .dataframe thead tr:only-child th {\n",
       "        text-align: right;\n",
       "    }\n",
       "\n",
       "    .dataframe thead th {\n",
       "        text-align: left;\n",
       "    }\n",
       "\n",
       "    .dataframe tbody tr th {\n",
       "        vertical-align: top;\n",
       "    }\n",
       "</style>\n",
       "<table border=\"1\" class=\"dataframe\">\n",
       "  <thead>\n",
       "    <tr style=\"text-align: right;\">\n",
       "      <th></th>\n",
       "      <th>0_13_all</th>\n",
       "      <th>0_13_female</th>\n",
       "      <th>0_13_male</th>\n",
       "      <th>0_17_all</th>\n",
       "      <th>0_17_female</th>\n",
       "      <th>0_17_male</th>\n",
       "      <th>0_6_all</th>\n",
       "      <th>0_6_female</th>\n",
       "      <th>0_6_male</th>\n",
       "      <th>16_29_all</th>\n",
       "      <th>...</th>\n",
       "      <th>provision_retail_space_modern_sqm</th>\n",
       "      <th>turnover_catering_per_cap</th>\n",
       "      <th>theaters_viewers_per_1000_cap</th>\n",
       "      <th>seats_theather_rfmin_per_100000_cap</th>\n",
       "      <th>museum_visitis_per_100_cap</th>\n",
       "      <th>bandwidth_sports</th>\n",
       "      <th>population_reg_sports_share</th>\n",
       "      <th>students_reg_sports_share</th>\n",
       "      <th>apartment_build</th>\n",
       "      <th>apartment_fund_sqm</th>\n",
       "    </tr>\n",
       "  </thead>\n",
       "  <tbody>\n",
       "    <tr>\n",
       "      <th>17932</th>\n",
       "      <td>900</td>\n",
       "      <td>435</td>\n",
       "      <td>465</td>\n",
       "      <td>1150</td>\n",
       "      <td>553</td>\n",
       "      <td>597</td>\n",
       "      <td>489</td>\n",
       "      <td>236</td>\n",
       "      <td>254</td>\n",
       "      <td>2155</td>\n",
       "      <td>...</td>\n",
       "      <td>NaN</td>\n",
       "      <td>10311.0</td>\n",
       "      <td>NaN</td>\n",
       "      <td>0.44784</td>\n",
       "      <td>NaN</td>\n",
       "      <td>398451.0</td>\n",
       "      <td>28.2</td>\n",
       "      <td>NaN</td>\n",
       "      <td>46080.0</td>\n",
       "      <td>229294.8</td>\n",
       "    </tr>\n",
       "    <tr>\n",
       "      <th>24296</th>\n",
       "      <td>506</td>\n",
       "      <td>245</td>\n",
       "      <td>261</td>\n",
       "      <td>646</td>\n",
       "      <td>311</td>\n",
       "      <td>336</td>\n",
       "      <td>275</td>\n",
       "      <td>133</td>\n",
       "      <td>143</td>\n",
       "      <td>3796</td>\n",
       "      <td>...</td>\n",
       "      <td>NaN</td>\n",
       "      <td>10311.0</td>\n",
       "      <td>NaN</td>\n",
       "      <td>0.44784</td>\n",
       "      <td>NaN</td>\n",
       "      <td>398451.0</td>\n",
       "      <td>28.2</td>\n",
       "      <td>NaN</td>\n",
       "      <td>46080.0</td>\n",
       "      <td>229294.8</td>\n",
       "    </tr>\n",
       "    <tr>\n",
       "      <th>30935</th>\n",
       "      <td>3681</td>\n",
       "      <td>1787</td>\n",
       "      <td>1894</td>\n",
       "      <td>4724</td>\n",
       "      <td>2283</td>\n",
       "      <td>2441</td>\n",
       "      <td>2041</td>\n",
       "      <td>976</td>\n",
       "      <td>1065</td>\n",
       "      <td>7467</td>\n",
       "      <td>...</td>\n",
       "      <td>NaN</td>\n",
       "      <td>10805.0</td>\n",
       "      <td>NaN</td>\n",
       "      <td>0.45888</td>\n",
       "      <td>NaN</td>\n",
       "      <td>463938.0</td>\n",
       "      <td>NaN</td>\n",
       "      <td>NaN</td>\n",
       "      <td>NaN</td>\n",
       "      <td>234576.9</td>\n",
       "    </tr>\n",
       "  </tbody>\n",
       "</table>\n",
       "<p>3 rows × 391 columns</p>\n",
       "</div>"
      ],
      "text/plain": [
       "       0_13_all  0_13_female  0_13_male  0_17_all  0_17_female  0_17_male  \\\n",
       "17932       900          435        465      1150          553        597   \n",
       "24296       506          245        261       646          311        336   \n",
       "30935      3681         1787       1894      4724         2283       2441   \n",
       "\n",
       "       0_6_all  0_6_female  0_6_male  16_29_all         ...          \\\n",
       "17932      489         236       254       2155         ...           \n",
       "24296      275         133       143       3796         ...           \n",
       "30935     2041         976      1065       7467         ...           \n",
       "\n",
       "       provision_retail_space_modern_sqm  turnover_catering_per_cap  \\\n",
       "17932                                NaN                    10311.0   \n",
       "24296                                NaN                    10311.0   \n",
       "30935                                NaN                    10805.0   \n",
       "\n",
       "       theaters_viewers_per_1000_cap  seats_theather_rfmin_per_100000_cap  \\\n",
       "17932                            NaN                              0.44784   \n",
       "24296                            NaN                              0.44784   \n",
       "30935                            NaN                              0.45888   \n",
       "\n",
       "       museum_visitis_per_100_cap  bandwidth_sports  \\\n",
       "17932                         NaN          398451.0   \n",
       "24296                         NaN          398451.0   \n",
       "30935                         NaN          463938.0   \n",
       "\n",
       "       population_reg_sports_share  students_reg_sports_share  \\\n",
       "17932                         28.2                        NaN   \n",
       "24296                         28.2                        NaN   \n",
       "30935                          NaN                        NaN   \n",
       "\n",
       "       apartment_build  apartment_fund_sqm  \n",
       "17932          46080.0            229294.8  \n",
       "24296          46080.0            229294.8  \n",
       "30935              NaN            234576.9  \n",
       "\n",
       "[3 rows x 391 columns]"
      ]
     },
     "execution_count": 23,
     "metadata": {},
     "output_type": "execute_result"
    }
   ],
   "source": [
    "df.loc[df['full_sq'] == 0]"
   ]
  },
  {
   "cell_type": "code",
   "execution_count": 25,
   "metadata": {
    "collapsed": true
   },
   "outputs": [],
   "source": [
    "# Cleaning values with incorrect information \n",
    "df.loc[df['state'] == 33, 'state'] = 3\n",
    "df = df.loc[df['id'] != 24718] \n",
    "df = df.loc[df['floor'] != 0] \n",
    "\n",
    "df.loc[df['build_year'] == 20052009, 'build_year'] = 2009\n",
    "df.loc[df['build_year'] == 215, 'build_year'] = 2015\n",
    "df.loc[df['build_year'] == 4965, 'build_year'] = 1965\n",
    "df.loc[df['build_year'] == 1691, 'build_year'] = 1961\n",
    "# df.loc[df['build_year'] == 0, 'build_year'] = df['year']\n",
    "# df.loc[df['build_year'] == 1, 'build_year'] = df['year']\n",
    "# df.loc[df['build_year'] == 2, 'build_year'] = df['year']\n",
    "# df.loc[df['build_year'] == 3, 'build_year'] = df['year']\n",
    "df.loc[df['build_year'] == 20, 'build_year'] = np.nan\n",
    "df.loc[df['build_year'] == 71, 'build_year'] = np.nan\n",
    "\n",
    "df.loc[df['build_year'] < 1800, 'build_year'] = np.nan\n",
    "df.loc[13120, 'build_year'] = 1970 # entered under kitch-sq column\n",
    "df.loc[11523, 'kitch_sq'] = df.loc[11523, 'kitch_sq'] / 100\n",
    "rows = (df['kitch_sq'] > df['full_sq']) & (df['kitch_sq'] > 100)\n",
    "df.loc[rows, 'kitch_sq'] = np.nan "
   ]
  },
  {
   "cell_type": "code",
   "execution_count": 26,
   "metadata": {
    "collapsed": true
   },
   "outputs": [],
   "source": [
    "# set rows where rows where full_sq and life_sq are both 0 to null.\n",
    "\n",
    "df.loc[(df['full_sq'] == 0) | (df['life_sq'] == 0), ['full_sq', 'life_sq']] = np.nan"
   ]
  },
  {
   "cell_type": "markdown",
   "metadata": {},
   "source": [
    "### Material"
   ]
  },
  {
   "cell_type": "code",
   "execution_count": 27,
   "metadata": {
    "collapsed": true
   },
   "outputs": [],
   "source": [
    "# Assign to nan as there is only one observation in both train and test sets.\n",
    "\n",
    "df.loc[df['material'] == 3, 'material'] = np.nan"
   ]
  },
  {
   "cell_type": "markdown",
   "metadata": {},
   "source": [
    "### Max Floor"
   ]
  },
  {
   "cell_type": "code",
   "execution_count": 28,
   "metadata": {
    "collapsed": true
   },
   "outputs": [],
   "source": [
    "df.loc[df['max_floor'] == 117, 'max_floor'] = 17\n",
    "df.loc[df['max_floor'] > 60, 'max_floor'] = np.nan"
   ]
  },
  {
   "cell_type": "markdown",
   "metadata": {},
   "source": [
    "### Floor "
   ]
  },
  {
   "cell_type": "code",
   "execution_count": 29,
   "metadata": {
    "collapsed": true
   },
   "outputs": [],
   "source": [
    "df.loc[df['floor'] == 77, 'floor'] = 7"
   ]
  },
  {
   "cell_type": "markdown",
   "metadata": {},
   "source": [
    "### Unit Size "
   ]
  },
  {
   "cell_type": "code",
   "execution_count": 30,
   "metadata": {
    "collapsed": false
   },
   "outputs": [],
   "source": [
    "df.loc[df['full_sq'] > 1000, 'full_sq'] = df.loc[df['full_sq'] > 1000, 'full_sq']/100\n",
    "df.loc[df['full_sq'] > 310, 'full_sq'] = df.loc[df['full_sq'] > 310, 'full_sq']/10"
   ]
  },
  {
   "cell_type": "code",
   "execution_count": 31,
   "metadata": {
    "collapsed": false
   },
   "outputs": [
    {
     "data": {
      "text/html": [
       "<div>\n",
       "<style>\n",
       "    .dataframe thead tr:only-child th {\n",
       "        text-align: right;\n",
       "    }\n",
       "\n",
       "    .dataframe thead th {\n",
       "        text-align: left;\n",
       "    }\n",
       "\n",
       "    .dataframe tbody tr th {\n",
       "        vertical-align: top;\n",
       "    }\n",
       "</style>\n",
       "<table border=\"1\" class=\"dataframe\">\n",
       "  <thead>\n",
       "    <tr style=\"text-align: right;\">\n",
       "      <th></th>\n",
       "      <th>0_13_all</th>\n",
       "      <th>0_13_female</th>\n",
       "      <th>0_13_male</th>\n",
       "      <th>0_17_all</th>\n",
       "      <th>0_17_female</th>\n",
       "      <th>0_17_male</th>\n",
       "      <th>0_6_all</th>\n",
       "      <th>0_6_female</th>\n",
       "      <th>0_6_male</th>\n",
       "      <th>16_29_all</th>\n",
       "      <th>...</th>\n",
       "      <th>water_pipes_share</th>\n",
       "      <th>water_treatment_km</th>\n",
       "      <th>work_all</th>\n",
       "      <th>work_female</th>\n",
       "      <th>work_male</th>\n",
       "      <th>workplaces_km</th>\n",
       "      <th>young_all</th>\n",
       "      <th>young_female</th>\n",
       "      <th>young_male</th>\n",
       "      <th>zd_vokzaly_avto_km</th>\n",
       "    </tr>\n",
       "  </thead>\n",
       "  <tbody>\n",
       "  </tbody>\n",
       "</table>\n",
       "<p>0 rows × 391 columns</p>\n",
       "</div>"
      ],
      "text/plain": [
       "Empty DataFrame\n",
       "Columns: [0_13_all, 0_13_female, 0_13_male, 0_17_all, 0_17_female, 0_17_male, 0_6_all, 0_6_female, 0_6_male, 16_29_all, 16_29_female, 16_29_male, 7_14_all, 7_14_female, 7_14_male, ID_big_road1, ID_big_road2, ID_bus_terminal, ID_metro, ID_railroad_station_avto, ID_railroad_station_walk, ID_railroad_terminal, additional_education_km, additional_education_raion, apartment_build, apartment_fund_sqm, area_m, average_life_exp, average_provision_of_build_contract, average_provision_of_build_contract_moscow, balance_trade, balance_trade_growth, bandwidth_sports, basketball_km, baths_share, big_church_count_1000, big_church_count_1500, big_church_count_2000, big_church_count_3000, big_church_count_500, big_church_count_5000, big_church_km, big_market_km, big_market_raion, big_road1_1line, big_road1_km, big_road2_km, brent, build_count_1921-1945, build_count_1946-1970, build_count_1971-1995, build_count_after_1995, build_count_before_1920, build_count_block, build_count_brick, build_count_foam, build_count_frame, build_count_mix, build_count_monolith, build_count_panel, build_count_slag, build_count_wood, build_year, bulvar_ring_km, bus_terminal_avto_km, cafe_avg_price_1000, cafe_avg_price_1500, cafe_avg_price_2000, cafe_avg_price_3000, cafe_avg_price_500, cafe_avg_price_5000, cafe_count_1000, cafe_count_1000_na_price, cafe_count_1000_price_1000, cafe_count_1000_price_1500, cafe_count_1000_price_2500, cafe_count_1000_price_4000, cafe_count_1000_price_500, cafe_count_1000_price_high, cafe_count_1500, cafe_count_1500_na_price, cafe_count_1500_price_1000, cafe_count_1500_price_1500, cafe_count_1500_price_2500, cafe_count_1500_price_4000, cafe_count_1500_price_500, cafe_count_1500_price_high, cafe_count_2000, cafe_count_2000_na_price, cafe_count_2000_price_1000, cafe_count_2000_price_1500, cafe_count_2000_price_2500, cafe_count_2000_price_4000, cafe_count_2000_price_500, cafe_count_2000_price_high, cafe_count_3000, cafe_count_3000_na_price, cafe_count_3000_price_1000, cafe_count_3000_price_1500, cafe_count_3000_price_2500, ...]\n",
       "Index: []\n",
       "\n",
       "[0 rows x 391 columns]"
      ]
     },
     "execution_count": 31,
     "metadata": {},
     "output_type": "execute_result"
    }
   ],
   "source": [
    "df.loc[df['full_sq'] > 1000]"
   ]
  },
  {
   "cell_type": "code",
   "execution_count": 32,
   "metadata": {
    "collapsed": true
   },
   "outputs": [],
   "source": [
    "# life_sq : adjust for large life_sq and that is greater than full_sq\n",
    "\n",
    "rows = (df['full_sq'] < df['life_sq']) & (df['life_sq'] > 100)\n",
    "df.loc[rows, 'life_sq'] = df.loc[rows, 'life_sq'] / 10"
   ]
  },
  {
   "cell_type": "code",
   "execution_count": 33,
   "metadata": {
    "collapsed": true
   },
   "outputs": [],
   "source": [
    "# full_sq (test)\n",
    "\n",
    "df.loc[df['full_sq'] > 400, 'full_sq'] = df.loc[df['full_sq'] > 400, 'full_sq'] / 10"
   ]
  },
  {
   "cell_type": "code",
   "execution_count": 34,
   "metadata": {
    "collapsed": false
   },
   "outputs": [],
   "source": [
    "# life_sq (test) : fix for large life_sq and which is greater than full_sq\n",
    "\n",
    "df.loc[rows, 'life_sq'] = df.loc[rows, 'life_sq'] / 10"
   ]
  },
  {
   "cell_type": "markdown",
   "metadata": {},
   "source": [
    "### Number of Rooms"
   ]
  },
  {
   "cell_type": "code",
   "execution_count": 35,
   "metadata": {
    "collapsed": true
   },
   "outputs": [],
   "source": [
    "df.loc[df['num_room'] > 9, 'num_room'] = np.nan"
   ]
  },
  {
   "cell_type": "markdown",
   "metadata": {},
   "source": [
    "## Median/Mean/Mode Imputation"
   ]
  },
  {
   "cell_type": "code",
   "execution_count": 36,
   "metadata": {
    "collapsed": false
   },
   "outputs": [],
   "source": [
    "# # replace 0 full_sq with mode of full_sq\n",
    "\n",
    "# df.loc[df['full_sq'] == 0, 'full_sq'] = df['full_sq'].mode()[0]\n",
    "\n",
    "# # for full_sq greater than mean of life_sq and life_sq 0, replace by mean of life_sq\n",
    "\n",
    "# lsq_r1 = (df['life_sq'] == 0) & (df['full_sq'] > lsq_mean)\n",
    "# df.loc[lsq_r1, 'life_sq'] = round(df['life_sq'].mean(),1)\n",
    "\n",
    "# # for full_sq greater than mean of life_sq and life_sq nan, replace with mean of life_sq\n",
    "\n",
    "# lsq_r2 = (df['life_sq'].isnull()) & (df['full_sq'] > lsq_mean )\n",
    "# df.loc[lsq_r2, 'life_sq'] = round(df['life_sq'].mean(),1)\n",
    "\n",
    "# # full_sq less than mean life_sq and life_sq nan, replace with (mean-10) life_sq \n",
    "\n",
    "# lsq_r3 = (df['life_sq'].isnull()) & (df['full_sq'] < lsq_mean )\n",
    "# df.loc[lsq_r3, 'life_sq'] = lsq_mean - 10"
   ]
  },
  {
   "cell_type": "code",
   "execution_count": 37,
   "metadata": {
    "collapsed": true
   },
   "outputs": [],
   "source": [
    "df.loc[df['max_floor'] == 0, 'max_floor'] = df['max_floor'].mode()[0]\n",
    "df.loc[df['material'].isnull(), 'material'] = df['material'].mode()[0]\n",
    "df.loc[df['num_room'].isnull(), 'num_room'] = df['num_room'].mode()[0]\n",
    "df.loc[df['kitch_sq'] == 0, 'kitch_sq'] = df['kitch_sq'].mode()[0]\n",
    "df.loc[df['kitch_sq'].isnull(), 'kitch_sq'] = df['kitch_sq'].mode()[0]"
   ]
  },
  {
   "cell_type": "markdown",
   "metadata": {},
   "source": [
    "## Creating New Features"
   ]
  },
  {
   "cell_type": "markdown",
   "metadata": {},
   "source": [
    "### Add Date/Time "
   ]
  },
  {
   "cell_type": "code",
   "execution_count": 38,
   "metadata": {
    "collapsed": true
   },
   "outputs": [],
   "source": [
    "# add month, day, year to train and test data\n",
    "df['month'] = df['timestamp'].dt.month\n",
    "df['day'] = df['timestamp'].dt.day\n",
    "df['year'] = df['timestamp'].dt.year\n",
    "\n",
    "# Add month-year\n",
    "month_year = (df.timestamp.dt.month + df.timestamp.dt.year * 100)\n",
    "month_year_map = month_year.value_counts().to_dict()\n",
    "df['month_year'] = month_year.map(month_year_map)\n",
    "\n",
    "\n",
    "# Add week-year count\n",
    "week_year = (df.timestamp.dt.weekofyear + df.timestamp.dt.year * 100)\n",
    "week_year_map = week_year.value_counts().to_dict()\n",
    "df['week_year'] = week_year.map(week_year_map)\n",
    "\n",
    "\n",
    "# Add month and day-of-week\n",
    "df['month'] = df.timestamp.dt.month\n",
    "df['dow'] = df.timestamp.dt.dayofweek"
   ]
  },
  {
   "cell_type": "code",
   "execution_count": 39,
   "metadata": {
    "collapsed": true
   },
   "outputs": [],
   "source": [
    "df['age'] = df['year'] - df['build_year']\n",
    "df.loc[df['age'] < 0, 'age'] = 0"
   ]
  },
  {
   "cell_type": "code",
   "execution_count": 40,
   "metadata": {
    "collapsed": false
   },
   "outputs": [
    {
     "data": {
      "text/plain": [
       "count    21898.000000\n",
       "mean      1986.150562\n",
       "std         21.187216\n",
       "min       1860.000000\n",
       "25%       1969.000000\n",
       "50%       1982.000000\n",
       "75%       2007.000000\n",
       "max       2019.000000\n",
       "Name: build_year, dtype: float64"
      ]
     },
     "execution_count": 40,
     "metadata": {},
     "output_type": "execute_result"
    }
   ],
   "source": [
    "df['build_year'].describe()"
   ]
  },
  {
   "cell_type": "code",
   "execution_count": 41,
   "metadata": {
    "collapsed": false
   },
   "outputs": [
    {
     "data": {
      "text/html": [
       "<div>\n",
       "<style>\n",
       "    .dataframe thead tr:only-child th {\n",
       "        text-align: right;\n",
       "    }\n",
       "\n",
       "    .dataframe thead th {\n",
       "        text-align: left;\n",
       "    }\n",
       "\n",
       "    .dataframe tbody tr th {\n",
       "        vertical-align: top;\n",
       "    }\n",
       "</style>\n",
       "<table border=\"1\" class=\"dataframe\">\n",
       "  <thead>\n",
       "    <tr style=\"text-align: right;\">\n",
       "      <th></th>\n",
       "      <th>0_13_all</th>\n",
       "      <th>0_13_female</th>\n",
       "      <th>0_13_male</th>\n",
       "      <th>0_17_all</th>\n",
       "      <th>0_17_female</th>\n",
       "      <th>0_17_male</th>\n",
       "      <th>0_6_all</th>\n",
       "      <th>0_6_female</th>\n",
       "      <th>0_6_male</th>\n",
       "      <th>16_29_all</th>\n",
       "      <th>...</th>\n",
       "      <th>young_all</th>\n",
       "      <th>young_female</th>\n",
       "      <th>young_male</th>\n",
       "      <th>zd_vokzaly_avto_km</th>\n",
       "      <th>month</th>\n",
       "      <th>day</th>\n",
       "      <th>year</th>\n",
       "      <th>month_year</th>\n",
       "      <th>week_year</th>\n",
       "      <th>dow</th>\n",
       "    </tr>\n",
       "    <tr>\n",
       "      <th>age</th>\n",
       "      <th></th>\n",
       "      <th></th>\n",
       "      <th></th>\n",
       "      <th></th>\n",
       "      <th></th>\n",
       "      <th></th>\n",
       "      <th></th>\n",
       "      <th></th>\n",
       "      <th></th>\n",
       "      <th></th>\n",
       "      <th></th>\n",
       "      <th></th>\n",
       "      <th></th>\n",
       "      <th></th>\n",
       "      <th></th>\n",
       "      <th></th>\n",
       "      <th></th>\n",
       "      <th></th>\n",
       "      <th></th>\n",
       "      <th></th>\n",
       "      <th></th>\n",
       "    </tr>\n",
       "  </thead>\n",
       "  <tbody>\n",
       "  </tbody>\n",
       "</table>\n",
       "<p>0 rows × 397 columns</p>\n",
       "</div>"
      ],
      "text/plain": [
       "Empty DataFrame\n",
       "Columns: [0_13_all, 0_13_female, 0_13_male, 0_17_all, 0_17_female, 0_17_male, 0_6_all, 0_6_female, 0_6_male, 16_29_all, 16_29_female, 16_29_male, 7_14_all, 7_14_female, 7_14_male, ID_big_road1, ID_big_road2, ID_bus_terminal, ID_metro, ID_railroad_station_avto, ID_railroad_station_walk, ID_railroad_terminal, additional_education_km, additional_education_raion, apartment_build, apartment_fund_sqm, area_m, average_life_exp, average_provision_of_build_contract, average_provision_of_build_contract_moscow, balance_trade, balance_trade_growth, bandwidth_sports, basketball_km, baths_share, big_church_count_1000, big_church_count_1500, big_church_count_2000, big_church_count_3000, big_church_count_500, big_church_count_5000, big_church_km, big_market_km, big_market_raion, big_road1_1line, big_road1_km, big_road2_km, brent, build_count_1921-1945, build_count_1946-1970, build_count_1971-1995, build_count_after_1995, build_count_before_1920, build_count_block, build_count_brick, build_count_foam, build_count_frame, build_count_mix, build_count_monolith, build_count_panel, build_count_slag, build_count_wood, build_year, bulvar_ring_km, bus_terminal_avto_km, cafe_avg_price_1000, cafe_avg_price_1500, cafe_avg_price_2000, cafe_avg_price_3000, cafe_avg_price_500, cafe_avg_price_5000, cafe_count_1000, cafe_count_1000_na_price, cafe_count_1000_price_1000, cafe_count_1000_price_1500, cafe_count_1000_price_2500, cafe_count_1000_price_4000, cafe_count_1000_price_500, cafe_count_1000_price_high, cafe_count_1500, cafe_count_1500_na_price, cafe_count_1500_price_1000, cafe_count_1500_price_1500, cafe_count_1500_price_2500, cafe_count_1500_price_4000, cafe_count_1500_price_500, cafe_count_1500_price_high, cafe_count_2000, cafe_count_2000_na_price, cafe_count_2000_price_1000, cafe_count_2000_price_1500, cafe_count_2000_price_2500, cafe_count_2000_price_4000, cafe_count_2000_price_500, cafe_count_2000_price_high, cafe_count_3000, cafe_count_3000_na_price, cafe_count_3000_price_1000, cafe_count_3000_price_1500, cafe_count_3000_price_2500, ...]\n",
       "Index: []\n",
       "\n",
       "[0 rows x 397 columns]"
      ]
     },
     "execution_count": 41,
     "metadata": {},
     "output_type": "execute_result"
    }
   ],
   "source": [
    "df.loc[df['age'] < 0].groupby('age').count()"
   ]
  },
  {
   "cell_type": "markdown",
   "metadata": {},
   "source": [
    "### Price:"
   ]
  },
  {
   "cell_type": "code",
   "execution_count": 42,
   "metadata": {
    "collapsed": false
   },
   "outputs": [],
   "source": [
    "df['price_doc_log'] = np.log1p(df['price_doc'])\n",
    "df['price_doc_log10'] = np.log10(df['price_doc'])"
   ]
  },
  {
   "cell_type": "markdown",
   "metadata": {},
   "source": [
    "### Unit Size:"
   ]
  },
  {
   "cell_type": "code",
   "execution_count": 43,
   "metadata": {
    "collapsed": true
   },
   "outputs": [],
   "source": [
    "# squared and square root of full sq\n",
    "df['full_sq^2'] = np.square(df['full_sq'])\n",
    "df['full_sqrt'] = np.sqrt(df['full_sq'])\n",
    "df['life_sq^2'] = np.square(df['life_sq'])\n",
    "df['life_sqrt'] = np.sqrt(df['life_sq'])\n",
    "\n",
    "\n",
    "\n",
    "# floor ratios\n",
    "df['rel_floor'] = df['floor'] / df['max_floor'].astype(float)\n",
    "df['rel_kitch_sq'] = df['kitch_sq'] / df['full_sq'].astype(float)\n",
    "\n",
    "\n",
    "# area and population density\n",
    "df['area_km'] = df['area_m'] / 1000000\n",
    "df['density'] = df['raion_popul'] / df['area_km']\n",
    "\n",
    "\n",
    "# working population\n",
    "df['work_share'] = df['work_all'] / df['raion_popul']"
   ]
  },
  {
   "cell_type": "markdown",
   "metadata": {},
   "source": [
    "## Adding Lags and calculating deltas"
   ]
  },
  {
   "cell_type": "markdown",
   "metadata": {},
   "source": [
    "#### Create lag timestamps for one month, three months, 6 months, and 12 months."
   ]
  },
  {
   "cell_type": "code",
   "execution_count": 44,
   "metadata": {
    "collapsed": false
   },
   "outputs": [],
   "source": [
    "df['one_month_lag'] = df['timestamp'] - pd.to_timedelta('30 days')\n",
    "df['three_month_lag'] = df['timestamp'] - pd.to_timedelta('90 days')\n",
    "df['six_month_lag'] = df['timestamp'] - pd.to_timedelta('180 days')\n",
    "df['twelve_month_lag'] = df['timestamp'] - pd.to_timedelta('360 days')"
   ]
  },
  {
   "cell_type": "code",
   "execution_count": 45,
   "metadata": {
    "collapsed": false
   },
   "outputs": [],
   "source": [
    "# df[['timestamp', 'one_month_lag', 'three_month_lag', 'six_month_lag', 'twelve_month_lag']]"
   ]
  },
  {
   "cell_type": "markdown",
   "metadata": {},
   "source": [
    "### Join macro features with chosen delay intervals"
   ]
  },
  {
   "cell_type": "code",
   "execution_count": 46,
   "metadata": {
    "collapsed": false
   },
   "outputs": [],
   "source": [
    "lag_features = ['timestamp' ,'oil_urals', 'gdp_quart',\n",
    "                'cpi', 'usdrub', 'micex_cbi_tr', 'labor_force']\n",
    "# 1-month lag\n",
    "df = pd.merge(df, macro_df[lag_features], how = 'left', left_on='one_month_lag', right_on='timestamp', suffixes=('','_1'))\n",
    "# 3-month lag\n",
    "df = pd.merge(df, macro_df[lag_features], how = 'left', left_on='three_month_lag', right_on='timestamp', suffixes=('','_3'))\n",
    "# 6 month lag\n",
    "df = pd.merge(df, macro_df[lag_features], how = 'left', left_on='six_month_lag', right_on='timestamp', suffixes=('','_6'))\n",
    "# 12 month lag\n",
    "df = pd.merge(df, macro_df[lag_features], how = 'left', left_on='twelve_month_lag', right_on='timestamp', suffixes=('','_12'))"
   ]
  },
  {
   "cell_type": "markdown",
   "metadata": {},
   "source": [
    "### Deltas:"
   ]
  },
  {
   "cell_type": "markdown",
   "metadata": {},
   "source": [
    "### Oil:"
   ]
  },
  {
   "cell_type": "code",
   "execution_count": 47,
   "metadata": {
    "collapsed": false
   },
   "outputs": [],
   "source": [
    "df['delta_oil_1'] = (df['oil_urals'] - df['oil_urals_1']) / df['oil_urals']\n",
    "df['delta_oil_3'] = (df['oil_urals'] - df['oil_urals_3']) / df['oil_urals']\n",
    "df['delta_oil_6'] = (df['oil_urals'] - df['oil_urals_6']) / df['oil_urals']\n",
    "df['delta_oil_12'] = (df['oil_urals'] - df['oil_urals_12']) / df['oil_urals']"
   ]
  },
  {
   "cell_type": "markdown",
   "metadata": {},
   "source": [
    "### Currency"
   ]
  },
  {
   "cell_type": "code",
   "execution_count": 48,
   "metadata": {
    "collapsed": true
   },
   "outputs": [],
   "source": [
    "df['delta_usdrub_1'] = (df['usdrub'] - df['usdrub_1']) / df['usdrub']\n",
    "df['delta_usdrub_3'] = (df['usdrub'] - df['usdrub_3']) / df['usdrub']\n",
    "df['delta_usdrub_6'] = (df['usdrub'] - df['usdrub_6']) / df['usdrub']\n",
    "df['delta_usdrub_12'] = (df['usdrub'] - df['usdrub_12']) / df['usdrub']"
   ]
  },
  {
   "cell_type": "markdown",
   "metadata": {},
   "source": [
    "### Labor Force"
   ]
  },
  {
   "cell_type": "code",
   "execution_count": 49,
   "metadata": {
    "collapsed": true
   },
   "outputs": [],
   "source": [
    "df['delta_labor_force_1'] = (df['labor_force'] - df['labor_force_1']) / df['labor_force']\n",
    "df['delta_labor_force_3'] = (df['labor_force'] - df['labor_force_3']) / df['labor_force']\n",
    "df['delta_labor_force_6'] = (df['labor_force'] - df['labor_force_6']) / df['labor_force']\n",
    "df['delta_labor_force_12'] = (df['labor_force'] - df['labor_force_12']) / df['labor_force']"
   ]
  },
  {
   "cell_type": "markdown",
   "metadata": {},
   "source": [
    "### micex_rgbi_tr"
   ]
  },
  {
   "cell_type": "code",
   "execution_count": 50,
   "metadata": {
    "collapsed": true
   },
   "outputs": [],
   "source": [
    "df['micex_rgbi_tr_1'] = (df['labor_force'] - df['labor_force_1']) / df['labor_force']\n",
    "df['micex_rgbi_tr_3'] = (df['labor_force'] - df['labor_force_3']) / df['labor_force']\n",
    "df['micex_rgbi_tr_6'] = (df['labor_force'] - df['labor_force_6']) / df['labor_force']\n",
    "df['micex_rgbi_tr_12'] = (df['labor_force'] - df['labor_force_12']) / df['labor_force']"
   ]
  },
  {
   "cell_type": "markdown",
   "metadata": {
    "collapsed": false,
    "scrolled": true
   },
   "source": [
    "### Split by Investor/Individual Owner Purchase"
   ]
  },
  {
   "cell_type": "markdown",
   "metadata": {
    "collapsed": false,
    "scrolled": true
   },
   "source": [
    "### Split by High/Low Price"
   ]
  },
  {
   "cell_type": "markdown",
   "metadata": {},
   "source": [
    "## Functions for Scaling/Normalizing/Reshaping\n",
    " (Note: not necessary for Random Forest Models)"
   ]
  },
  {
   "cell_type": "markdown",
   "metadata": {},
   "source": [
    "#### Check dtypes and split objects and numeric types"
   ]
  },
  {
   "cell_type": "code",
   "execution_count": 51,
   "metadata": {
    "collapsed": false
   },
   "outputs": [],
   "source": [
    "df_numerics = df.select_dtypes(exclude=['object','datetime'])\n",
    "df_objects = df.select_dtypes(include=['object'])\n",
    "df_timestamp = df.select_dtypes(include=['datetime'])"
   ]
  },
  {
   "cell_type": "markdown",
   "metadata": {},
   "source": [
    "### Merge again"
   ]
  },
  {
   "cell_type": "code",
   "execution_count": 52,
   "metadata": {
    "collapsed": false
   },
   "outputs": [],
   "source": [
    "frames = [df_timestamp, df_numerics, df_objects]\n",
    "\n",
    "df = pd.concat(frames,axis=1)"
   ]
  },
  {
   "cell_type": "code",
   "execution_count": 53,
   "metadata": {
    "collapsed": false
   },
   "outputs": [
    {
     "data": {
      "text/plain": [
       "(37659, 457)"
      ]
     },
     "execution_count": 53,
     "metadata": {},
     "output_type": "execute_result"
    }
   ],
   "source": [
    "df.shape"
   ]
  },
  {
   "cell_type": "markdown",
   "metadata": {},
   "source": [
    "#### Normalize and rescale numeric features"
   ]
  },
  {
   "cell_type": "code",
   "execution_count": 608,
   "metadata": {
    "collapsed": false
   },
   "outputs": [],
   "source": [
    "# df_numerics.loc[:, df_numerics.columns != 'timestamp'] = df_numerics.select_dtypes(exclude=['datetime'])"
   ]
  },
  {
   "cell_type": "markdown",
   "metadata": {},
   "source": [
    "### Standardize and remove outliers "
   ]
  },
  {
   "cell_type": "markdown",
   "metadata": {},
   "source": [
    "First, encode categorical variables using: `LabelEncoder()`"
   ]
  },
  {
   "cell_type": "code",
   "execution_count": 54,
   "metadata": {
    "collapsed": false
   },
   "outputs": [],
   "source": [
    "from sklearn.preprocessing import StandardScaler, RobustScaler, LabelEncoder\n",
    "\n",
    "for feature in df.columns:\n",
    "    if df[feature].dtype=='object':\n",
    "        lbl = LabelEncoder()\n",
    "        lbl.fit(list(df[feature].values)) \n",
    "        df[feature] = lbl.transform(list(df[feature].values))\n",
    "#     elif df[feature].dtype=='float64':\n",
    "#         scl = RobustScaler()\n",
    "#         scl.fit(df.loc[df[feature].notnull(), feature].values)\n",
    "#         df.loc[df[feature].notnull(), feature] = scl.transform(df.loc[df[feature].notnull(), feature].values)"
   ]
  },
  {
   "cell_type": "markdown",
   "metadata": {},
   "source": [
    "#### Confirm data's status before saving"
   ]
  },
  {
   "cell_type": "code",
   "execution_count": 55,
   "metadata": {
    "collapsed": false
   },
   "outputs": [
    {
     "data": {
      "text/plain": [
       "7662"
      ]
     },
     "execution_count": 55,
     "metadata": {},
     "output_type": "execute_result"
    }
   ],
   "source": [
    "np.sum(df['price_doc_log'].isnull())"
   ]
  },
  {
   "cell_type": "markdown",
   "metadata": {},
   "source": [
    "### Save to CSV"
   ]
  },
  {
   "cell_type": "code",
   "execution_count": 56,
   "metadata": {
    "collapsed": false
   },
   "outputs": [],
   "source": [
    "df.to_csv('./cleaned_outliers_removed_{0}.csv'.format(datetime.date(datetime.now())), index=False)"
   ]
  },
  {
   "cell_type": "code",
   "execution_count": 47,
   "metadata": {
    "collapsed": false
   },
   "outputs": [],
   "source": []
  },
  {
   "cell_type": "code",
   "execution_count": null,
   "metadata": {
    "collapsed": true
   },
   "outputs": [],
   "source": []
  }
 ],
 "metadata": {
  "kernelspec": {
   "display_name": "Python 2",
   "language": "python",
   "name": "python2"
  },
  "language_info": {
   "codemirror_mode": {
    "name": "ipython",
    "version": 2
   },
   "file_extension": ".py",
   "mimetype": "text/x-python",
   "name": "python",
   "nbconvert_exporter": "python",
   "pygments_lexer": "ipython2",
   "version": "2.7.13"
  }
 },
 "nbformat": 4,
 "nbformat_minor": 2
}
